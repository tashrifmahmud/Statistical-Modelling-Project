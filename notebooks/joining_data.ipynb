{
 "cells": [
  {
   "cell_type": "markdown",
   "metadata": {},
   "source": [
    "Join the data from Part 1 with the data from Part 2 to create a new dataframe."
   ]
  },
  {
   "cell_type": "markdown",
   "metadata": {},
   "source": [
    "As we have taken each station's lat long from Part 1 to build our poi dataframe in part 2, we can use that for this exercise:"
   ]
  },
  {
   "cell_type": "code",
   "execution_count": 1,
   "metadata": {},
   "outputs": [],
   "source": [
    "import requests\n",
    "import os\n",
    "import json\n",
    "import pandas as pd\n",
    "FOURSQUARE_API_KEY = os.environ.get(\"FOURSQUARE_API_KEY\")\n",
    "YELP_API_KEY = os.environ.get(\"YELP_API_KEY\")\n",
    "import matplotlib.pyplot as plt\n",
    "import seaborn as sns"
   ]
  },
  {
   "cell_type": "code",
   "execution_count": 2,
   "metadata": {},
   "outputs": [],
   "source": [
    "# We bring part 1 here\n",
    "%run city_bikes.ipynb"
   ]
  },
  {
   "cell_type": "code",
   "execution_count": 3,
   "metadata": {},
   "outputs": [],
   "source": [
    "# Load the pickle file from part 2 (unable to use import-ipynb and %run)\n",
    "bikes_foursquare_df = pd.read_pickle(r'C:\\Users\\mahmu\\LHL\\Statistical-Modelling-Project\\data\\fs_pois_data.pkl')"
   ]
  },
  {
   "cell_type": "code",
   "execution_count": 4,
   "metadata": {},
   "outputs": [
    {
     "data": {
      "text/html": [
       "<div>\n",
       "<style scoped>\n",
       "    .dataframe tbody tr th:only-of-type {\n",
       "        vertical-align: middle;\n",
       "    }\n",
       "\n",
       "    .dataframe tbody tr th {\n",
       "        vertical-align: top;\n",
       "    }\n",
       "\n",
       "    .dataframe thead th {\n",
       "        text-align: right;\n",
       "    }\n",
       "</style>\n",
       "<table border=\"1\" class=\"dataframe\">\n",
       "  <thead>\n",
       "    <tr style=\"text-align: right;\">\n",
       "      <th></th>\n",
       "      <th>station_name</th>\n",
       "      <th>name</th>\n",
       "      <th>latitude</th>\n",
       "      <th>longitude</th>\n",
       "      <th>category</th>\n",
       "      <th>distance</th>\n",
       "    </tr>\n",
       "  </thead>\n",
       "  <tbody>\n",
       "    <tr>\n",
       "      <th>0</th>\n",
       "      <td>Summerhill Ave / Maclennan Ave</td>\n",
       "      <td>Dolce Bakery</td>\n",
       "      <td>43.685924</td>\n",
       "      <td>-79.376304</td>\n",
       "      <td>restaurant</td>\n",
       "      <td>38</td>\n",
       "    </tr>\n",
       "    <tr>\n",
       "      <th>1</th>\n",
       "      <td>Summerhill Ave / Maclennan Ave</td>\n",
       "      <td>Ashbury Cleaners</td>\n",
       "      <td>43.685924</td>\n",
       "      <td>-79.376304</td>\n",
       "      <td>bar</td>\n",
       "      <td>24</td>\n",
       "    </tr>\n",
       "    <tr>\n",
       "      <th>2</th>\n",
       "      <td>Summerhill Ave / Maclennan Ave</td>\n",
       "      <td>Rosedale's Finest</td>\n",
       "      <td>43.685924</td>\n",
       "      <td>-79.376304</td>\n",
       "      <td>bar</td>\n",
       "      <td>27</td>\n",
       "    </tr>\n",
       "    <tr>\n",
       "      <th>3</th>\n",
       "      <td>Summerhill Ave / Maclennan Ave</td>\n",
       "      <td>Rosedale 1 Hour Cleaners</td>\n",
       "      <td>43.685924</td>\n",
       "      <td>-79.376304</td>\n",
       "      <td>bar</td>\n",
       "      <td>39</td>\n",
       "    </tr>\n",
       "    <tr>\n",
       "      <th>4</th>\n",
       "      <td>Summerhill Ave / Maclennan Ave</td>\n",
       "      <td>Dolce Bakery</td>\n",
       "      <td>43.685924</td>\n",
       "      <td>-79.376304</td>\n",
       "      <td>bar</td>\n",
       "      <td>38</td>\n",
       "    </tr>\n",
       "  </tbody>\n",
       "</table>\n",
       "</div>"
      ],
      "text/plain": [
       "                     station_name                      name   latitude  \\\n",
       "0  Summerhill Ave / Maclennan Ave              Dolce Bakery  43.685924   \n",
       "1  Summerhill Ave / Maclennan Ave          Ashbury Cleaners  43.685924   \n",
       "2  Summerhill Ave / Maclennan Ave         Rosedale's Finest  43.685924   \n",
       "3  Summerhill Ave / Maclennan Ave  Rosedale 1 Hour Cleaners  43.685924   \n",
       "4  Summerhill Ave / Maclennan Ave              Dolce Bakery  43.685924   \n",
       "\n",
       "   longitude    category  distance  \n",
       "0 -79.376304  restaurant        38  \n",
       "1 -79.376304         bar        24  \n",
       "2 -79.376304         bar        27  \n",
       "3 -79.376304         bar        39  \n",
       "4 -79.376304         bar        38  "
      ]
     },
     "execution_count": 4,
     "metadata": {},
     "output_type": "execute_result"
    }
   ],
   "source": [
    "bikes_foursquare_df.head()"
   ]
  },
  {
   "cell_type": "markdown",
   "metadata": {},
   "source": [
    "As we can see, for each stations, we get nearby restaurants, bars and banks within 50 meters."
   ]
  },
  {
   "cell_type": "code",
   "execution_count": 5,
   "metadata": {},
   "outputs": [
    {
     "data": {
      "text/plain": [
       "(2101, 6)"
      ]
     },
     "execution_count": 5,
     "metadata": {},
     "output_type": "execute_result"
    }
   ],
   "source": [
    "# There are 2101 rows and 6 columns\n",
    "bikes_foursquare_df.shape"
   ]
  },
  {
   "cell_type": "code",
   "execution_count": 6,
   "metadata": {},
   "outputs": [
    {
     "data": {
      "text/plain": [
       "station_name     object\n",
       "name             object\n",
       "latitude        float64\n",
       "longitude       float64\n",
       "category         object\n",
       "distance          int64\n",
       "dtype: object"
      ]
     },
     "execution_count": 6,
     "metadata": {},
     "output_type": "execute_result"
    }
   ],
   "source": [
    "# Restaurants, bars and banks are all under the category column, for our analysis we need to seperate them\n",
    "bikes_foursquare_df.dtypes"
   ]
  },
  {
   "cell_type": "code",
   "execution_count": 7,
   "metadata": {},
   "outputs": [],
   "source": [
    "# Rename \"name\" to \"institution_name\" for clarity\n",
    "bikes_foursquare_df.rename(columns={'name': 'institution name'}, inplace=True)"
   ]
  },
  {
   "cell_type": "code",
   "execution_count": 8,
   "metadata": {},
   "outputs": [],
   "source": [
    "# Create separate columns for each category\n",
    "category_dummies = pd.get_dummies(bikes_foursquare_df['category'])"
   ]
  },
  {
   "cell_type": "code",
   "execution_count": 9,
   "metadata": {},
   "outputs": [],
   "source": [
    "# Combine the original DataFrame with the category dummies\n",
    "df_combined = pd.concat([bikes_foursquare_df, category_dummies], axis=1)"
   ]
  },
  {
   "cell_type": "code",
   "execution_count": 10,
   "metadata": {},
   "outputs": [],
   "source": [
    "# Group by station_name and sum the counts of each category\n",
    "df_summary = df_combined.groupby(['station_name', 'latitude', 'longitude'], as_index=False).sum()"
   ]
  },
  {
   "cell_type": "code",
   "execution_count": 11,
   "metadata": {},
   "outputs": [],
   "source": [
    "# Rename the columns to reflect the counts\n",
    "df_summary.rename(columns={\n",
    "    'restaurant': 'restaurant_count',\n",
    "    'bar': 'bar_count',\n",
    "    'bank': 'bank_count'\n",
    "}, inplace=True)"
   ]
  },
  {
   "cell_type": "code",
   "execution_count": 12,
   "metadata": {},
   "outputs": [],
   "source": [
    "# Add a new column \"total_count\" by summing the counts of banks, bars, and restaurants\n",
    "df_summary['total_institutions'] = (\n",
    "    df_summary['restaurant_count'] + \n",
    "    df_summary['bar_count'] + \n",
    "    df_summary['bank_count']\n",
    ")"
   ]
  },
  {
   "cell_type": "markdown",
   "metadata": {},
   "source": [
    "Now we get a complete dataframe which contains each stations and its nearby intitutions of our interest"
   ]
  },
  {
   "cell_type": "code",
   "execution_count": 13,
   "metadata": {},
   "outputs": [
    {
     "data": {
      "text/html": [
       "<div>\n",
       "<style scoped>\n",
       "    .dataframe tbody tr th:only-of-type {\n",
       "        vertical-align: middle;\n",
       "    }\n",
       "\n",
       "    .dataframe tbody tr th {\n",
       "        vertical-align: top;\n",
       "    }\n",
       "\n",
       "    .dataframe thead th {\n",
       "        text-align: right;\n",
       "    }\n",
       "</style>\n",
       "<table border=\"1\" class=\"dataframe\">\n",
       "  <thead>\n",
       "    <tr style=\"text-align: right;\">\n",
       "      <th></th>\n",
       "      <th>station_name</th>\n",
       "      <th>latitude</th>\n",
       "      <th>longitude</th>\n",
       "      <th>institution name</th>\n",
       "      <th>category</th>\n",
       "      <th>distance</th>\n",
       "      <th>bank_count</th>\n",
       "      <th>bar_count</th>\n",
       "      <th>restaurant_count</th>\n",
       "      <th>total_institutions</th>\n",
       "    </tr>\n",
       "  </thead>\n",
       "  <tbody>\n",
       "    <tr>\n",
       "      <th>0</th>\n",
       "      <td>1 Market St</td>\n",
       "      <td>43.646993</td>\n",
       "      <td>-79.370666</td>\n",
       "      <td>The Market Club</td>\n",
       "      <td>bar</td>\n",
       "      <td>27</td>\n",
       "      <td>0</td>\n",
       "      <td>1</td>\n",
       "      <td>0</td>\n",
       "      <td>1</td>\n",
       "    </tr>\n",
       "    <tr>\n",
       "      <th>1</th>\n",
       "      <td>111 Bond St (North of Dundas St E)  - SMART</td>\n",
       "      <td>43.656927</td>\n",
       "      <td>-79.378497</td>\n",
       "      <td>The HummussiahLocalista Food Truck</td>\n",
       "      <td>restaurantrestaurant</td>\n",
       "      <td>71</td>\n",
       "      <td>0</td>\n",
       "      <td>0</td>\n",
       "      <td>2</td>\n",
       "      <td>2</td>\n",
       "    </tr>\n",
       "    <tr>\n",
       "      <th>2</th>\n",
       "      <td>111 Broadview Ave</td>\n",
       "      <td>43.659348</td>\n",
       "      <td>-79.349937</td>\n",
       "      <td>Liberty ShawarmaRooftop at Broadview HotelEast...</td>\n",
       "      <td>restaurantbarbarbarbarbarbank</td>\n",
       "      <td>269</td>\n",
       "      <td>1</td>\n",
       "      <td>5</td>\n",
       "      <td>1</td>\n",
       "      <td>7</td>\n",
       "    </tr>\n",
       "    <tr>\n",
       "      <th>3</th>\n",
       "      <td>12 Harbour St</td>\n",
       "      <td>43.642564</td>\n",
       "      <td>-79.376200</td>\n",
       "      <td>Ahmed Chips WagonThe Butcher ChefLow Town</td>\n",
       "      <td>restaurantrestaurantbar</td>\n",
       "      <td>110</td>\n",
       "      <td>0</td>\n",
       "      <td>1</td>\n",
       "      <td>2</td>\n",
       "      <td>3</td>\n",
       "    </tr>\n",
       "    <tr>\n",
       "      <th>4</th>\n",
       "      <td>128 Sterling Rd - SMART</td>\n",
       "      <td>43.654004</td>\n",
       "      <td>-79.444792</td>\n",
       "      <td>Lazarus &amp; the Dive bar</td>\n",
       "      <td>bar</td>\n",
       "      <td>42</td>\n",
       "      <td>0</td>\n",
       "      <td>1</td>\n",
       "      <td>0</td>\n",
       "      <td>1</td>\n",
       "    </tr>\n",
       "    <tr>\n",
       "      <th>5</th>\n",
       "      <td>1303 Yonge St - SMART</td>\n",
       "      <td>43.684618</td>\n",
       "      <td>-79.392459</td>\n",
       "      <td>B &amp; B Fine FoodsAsianTorontoEscorts</td>\n",
       "      <td>restaurantbar</td>\n",
       "      <td>33</td>\n",
       "      <td>0</td>\n",
       "      <td>1</td>\n",
       "      <td>1</td>\n",
       "      <td>2</td>\n",
       "    </tr>\n",
       "    <tr>\n",
       "      <th>6</th>\n",
       "      <td>15 Price St</td>\n",
       "      <td>43.679948</td>\n",
       "      <td>-79.389948</td>\n",
       "      <td>TerroniTerroniBar Centrale di Terroni</td>\n",
       "      <td>restaurantbarbar</td>\n",
       "      <td>147</td>\n",
       "      <td>0</td>\n",
       "      <td>2</td>\n",
       "      <td>1</td>\n",
       "      <td>3</td>\n",
       "    </tr>\n",
       "    <tr>\n",
       "      <th>7</th>\n",
       "      <td>1525 Dundas St W</td>\n",
       "      <td>43.649570</td>\n",
       "      <td>-79.432446</td>\n",
       "      <td>The MuttThe DerbyBlanc 4</td>\n",
       "      <td>barbarbar</td>\n",
       "      <td>98</td>\n",
       "      <td>0</td>\n",
       "      <td>3</td>\n",
       "      <td>0</td>\n",
       "      <td>3</td>\n",
       "    </tr>\n",
       "    <tr>\n",
       "      <th>8</th>\n",
       "      <td>1612 Danforth Ave</td>\n",
       "      <td>43.683708</td>\n",
       "      <td>-79.322625</td>\n",
       "      <td>Sunset GrillTKO's the Sports PubSunset GrillA&amp;...</td>\n",
       "      <td>restaurantbarbarbarbank</td>\n",
       "      <td>211</td>\n",
       "      <td>1</td>\n",
       "      <td>3</td>\n",
       "      <td>1</td>\n",
       "      <td>5</td>\n",
       "    </tr>\n",
       "    <tr>\n",
       "      <th>9</th>\n",
       "      <td>19 Glendora Ave</td>\n",
       "      <td>43.759211</td>\n",
       "      <td>-79.409604</td>\n",
       "      <td>Yama SushiAlisa Mazo Barrister &amp; SolicitorBarg...</td>\n",
       "      <td>barbarbarbarbankbank</td>\n",
       "      <td>258</td>\n",
       "      <td>2</td>\n",
       "      <td>4</td>\n",
       "      <td>0</td>\n",
       "      <td>6</td>\n",
       "    </tr>\n",
       "  </tbody>\n",
       "</table>\n",
       "</div>"
      ],
      "text/plain": [
       "                                  station_name   latitude  longitude  \\\n",
       "0                                  1 Market St  43.646993 -79.370666   \n",
       "1  111 Bond St (North of Dundas St E)  - SMART  43.656927 -79.378497   \n",
       "2                            111 Broadview Ave  43.659348 -79.349937   \n",
       "3                                12 Harbour St  43.642564 -79.376200   \n",
       "4                      128 Sterling Rd - SMART  43.654004 -79.444792   \n",
       "5                        1303 Yonge St - SMART  43.684618 -79.392459   \n",
       "6                                 15 Price St   43.679948 -79.389948   \n",
       "7                             1525 Dundas St W  43.649570 -79.432446   \n",
       "8                           1612 Danforth Ave   43.683708 -79.322625   \n",
       "9                              19 Glendora Ave  43.759211 -79.409604   \n",
       "\n",
       "                                    institution name  \\\n",
       "0                                    The Market Club   \n",
       "1                 The HummussiahLocalista Food Truck   \n",
       "2  Liberty ShawarmaRooftop at Broadview HotelEast...   \n",
       "3          Ahmed Chips WagonThe Butcher ChefLow Town   \n",
       "4                             Lazarus & the Dive bar   \n",
       "5                B & B Fine FoodsAsianTorontoEscorts   \n",
       "6              TerroniTerroniBar Centrale di Terroni   \n",
       "7                           The MuttThe DerbyBlanc 4   \n",
       "8  Sunset GrillTKO's the Sports PubSunset GrillA&...   \n",
       "9  Yama SushiAlisa Mazo Barrister & SolicitorBarg...   \n",
       "\n",
       "                        category  distance  bank_count  bar_count  \\\n",
       "0                            bar        27           0          1   \n",
       "1           restaurantrestaurant        71           0          0   \n",
       "2  restaurantbarbarbarbarbarbank       269           1          5   \n",
       "3        restaurantrestaurantbar       110           0          1   \n",
       "4                            bar        42           0          1   \n",
       "5                  restaurantbar        33           0          1   \n",
       "6               restaurantbarbar       147           0          2   \n",
       "7                      barbarbar        98           0          3   \n",
       "8        restaurantbarbarbarbank       211           1          3   \n",
       "9           barbarbarbarbankbank       258           2          4   \n",
       "\n",
       "   restaurant_count  total_institutions  \n",
       "0                 0                   1  \n",
       "1                 2                   2  \n",
       "2                 1                   7  \n",
       "3                 2                   3  \n",
       "4                 0                   1  \n",
       "5                 1                   2  \n",
       "6                 1                   3  \n",
       "7                 0                   3  \n",
       "8                 1                   5  \n",
       "9                 0                   6  "
      ]
     },
     "execution_count": 13,
     "metadata": {},
     "output_type": "execute_result"
    }
   ],
   "source": [
    "df_summary.head(10)"
   ]
  },
  {
   "cell_type": "code",
   "execution_count": 14,
   "metadata": {},
   "outputs": [
    {
     "data": {
      "text/plain": [
       "(444, 10)"
      ]
     },
     "execution_count": 14,
     "metadata": {},
     "output_type": "execute_result"
    }
   ],
   "source": [
    "# It only has 444 unique stations, meaning out of 852 stations only 444 has nearby establishments of our interest\n",
    "df_summary.shape"
   ]
  },
  {
   "cell_type": "code",
   "execution_count": 17,
   "metadata": {},
   "outputs": [],
   "source": [
    "# Perform a left join on df_bike and df_summary\n",
    "df_combined = pd.merge(\n",
    "    df_bike,\n",
    "    df_summary,\n",
    "    on=['station_name', 'latitude', 'longitude'],  \n",
    "    how='left'\n",
    ")\n",
    "\n",
    "# Columns we want in our final dataframe\n",
    "df_combined = df_combined[[\n",
    "    'station_name', 'latitude', 'longitude', 'total_bikes', \n",
    "    'institution name', 'category', 'distance', \n",
    "    'bank_count', 'bar_count', 'restaurant_count', 'total_institutions'\n",
    "]]"
   ]
  },
  {
   "cell_type": "code",
   "execution_count": 18,
   "metadata": {},
   "outputs": [
    {
     "data": {
      "text/html": [
       "<div>\n",
       "<style scoped>\n",
       "    .dataframe tbody tr th:only-of-type {\n",
       "        vertical-align: middle;\n",
       "    }\n",
       "\n",
       "    .dataframe tbody tr th {\n",
       "        vertical-align: top;\n",
       "    }\n",
       "\n",
       "    .dataframe thead th {\n",
       "        text-align: right;\n",
       "    }\n",
       "</style>\n",
       "<table border=\"1\" class=\"dataframe\">\n",
       "  <thead>\n",
       "    <tr style=\"text-align: right;\">\n",
       "      <th></th>\n",
       "      <th>station_name</th>\n",
       "      <th>latitude</th>\n",
       "      <th>longitude</th>\n",
       "      <th>total_bikes</th>\n",
       "      <th>institution name</th>\n",
       "      <th>category</th>\n",
       "      <th>distance</th>\n",
       "      <th>bank_count</th>\n",
       "      <th>bar_count</th>\n",
       "      <th>restaurant_count</th>\n",
       "      <th>total_institutions</th>\n",
       "    </tr>\n",
       "  </thead>\n",
       "  <tbody>\n",
       "    <tr>\n",
       "      <th>0</th>\n",
       "      <td>Summerhill Ave / Maclennan Ave</td>\n",
       "      <td>43.685924</td>\n",
       "      <td>-79.376304</td>\n",
       "      <td>11</td>\n",
       "      <td>Dolce BakeryAshbury CleanersRosedale's FinestR...</td>\n",
       "      <td>restaurantbarbarbarbarbank</td>\n",
       "      <td>209.0</td>\n",
       "      <td>1.0</td>\n",
       "      <td>4.0</td>\n",
       "      <td>1.0</td>\n",
       "      <td>6.0</td>\n",
       "    </tr>\n",
       "    <tr>\n",
       "      <th>1</th>\n",
       "      <td>Queen St E / Joseph Duggan Rd</td>\n",
       "      <td>43.667763</td>\n",
       "      <td>-79.308117</td>\n",
       "      <td>18</td>\n",
       "      <td>NaN</td>\n",
       "      <td>NaN</td>\n",
       "      <td>NaN</td>\n",
       "      <td>NaN</td>\n",
       "      <td>NaN</td>\n",
       "      <td>NaN</td>\n",
       "      <td>NaN</td>\n",
       "    </tr>\n",
       "    <tr>\n",
       "      <th>2</th>\n",
       "      <td>Victoria Park Ave / Danforth Ave</td>\n",
       "      <td>43.691468</td>\n",
       "      <td>-79.288619</td>\n",
       "      <td>18</td>\n",
       "      <td>Il CucinaTD Bank Financial GroupTD Canada Trus...</td>\n",
       "      <td>restaurantbankbank</td>\n",
       "      <td>74.0</td>\n",
       "      <td>2.0</td>\n",
       "      <td>0.0</td>\n",
       "      <td>1.0</td>\n",
       "      <td>3.0</td>\n",
       "    </tr>\n",
       "    <tr>\n",
       "      <th>3</th>\n",
       "      <td>Navy Wharf Crt / Bremner Blvd</td>\n",
       "      <td>43.640722</td>\n",
       "      <td>-79.391051</td>\n",
       "      <td>8</td>\n",
       "      <td>Mr. GreekKibo SushiKibo SushiBlue Fin Sushi Bar</td>\n",
       "      <td>restaurantrestaurantbarbar</td>\n",
       "      <td>128.0</td>\n",
       "      <td>0.0</td>\n",
       "      <td>2.0</td>\n",
       "      <td>2.0</td>\n",
       "      <td>4.0</td>\n",
       "    </tr>\n",
       "    <tr>\n",
       "      <th>4</th>\n",
       "      <td>420 Wellington St W</td>\n",
       "      <td>43.643834</td>\n",
       "      <td>-79.396649</td>\n",
       "      <td>15</td>\n",
       "      <td>Le Select BistroMira RestaurantLe Select Bistr...</td>\n",
       "      <td>restaurantrestaurantbarbarbarbarbar</td>\n",
       "      <td>179.0</td>\n",
       "      <td>0.0</td>\n",
       "      <td>5.0</td>\n",
       "      <td>2.0</td>\n",
       "      <td>7.0</td>\n",
       "    </tr>\n",
       "  </tbody>\n",
       "</table>\n",
       "</div>"
      ],
      "text/plain": [
       "                       station_name   latitude  longitude  total_bikes  \\\n",
       "0    Summerhill Ave / Maclennan Ave  43.685924 -79.376304           11   \n",
       "1     Queen St E / Joseph Duggan Rd  43.667763 -79.308117           18   \n",
       "2  Victoria Park Ave / Danforth Ave  43.691468 -79.288619           18   \n",
       "3     Navy Wharf Crt / Bremner Blvd  43.640722 -79.391051            8   \n",
       "4               420 Wellington St W  43.643834 -79.396649           15   \n",
       "\n",
       "                                    institution name  \\\n",
       "0  Dolce BakeryAshbury CleanersRosedale's FinestR...   \n",
       "1                                                NaN   \n",
       "2  Il CucinaTD Bank Financial GroupTD Canada Trus...   \n",
       "3    Mr. GreekKibo SushiKibo SushiBlue Fin Sushi Bar   \n",
       "4  Le Select BistroMira RestaurantLe Select Bistr...   \n",
       "\n",
       "                              category  distance  bank_count  bar_count  \\\n",
       "0           restaurantbarbarbarbarbank     209.0         1.0        4.0   \n",
       "1                                  NaN       NaN         NaN        NaN   \n",
       "2                   restaurantbankbank      74.0         2.0        0.0   \n",
       "3           restaurantrestaurantbarbar     128.0         0.0        2.0   \n",
       "4  restaurantrestaurantbarbarbarbarbar     179.0         0.0        5.0   \n",
       "\n",
       "   restaurant_count  total_institutions  \n",
       "0               1.0                 6.0  \n",
       "1               NaN                 NaN  \n",
       "2               1.0                 3.0  \n",
       "3               2.0                 4.0  \n",
       "4               2.0                 7.0  "
      ]
     },
     "execution_count": 18,
     "metadata": {},
     "output_type": "execute_result"
    }
   ],
   "source": [
    "# Checking our new dataframe\n",
    "df_combined.head()"
   ]
  },
  {
   "cell_type": "code",
   "execution_count": 19,
   "metadata": {},
   "outputs": [
    {
     "data": {
      "text/plain": [
       "(852, 11)"
      ]
     },
     "execution_count": 19,
     "metadata": {},
     "output_type": "execute_result"
    }
   ],
   "source": [
    "# Now we have all stations, but for stations which don't have data from the API, we get NaN\n",
    "df_combined.shape"
   ]
  },
  {
   "cell_type": "code",
   "execution_count": 20,
   "metadata": {},
   "outputs": [],
   "source": [
    "# Saved for later usage\n",
    "# df_combined.to_csv('df_combined_data.csv', index=False)\n",
    "# df_combined.to_pickle('df_combined_data.pkl')"
   ]
  },
  {
   "cell_type": "markdown",
   "metadata": {},
   "source": [
    "Provide a visualization that you used as part of your EDA process. Explain the initial pattern or relationship you discoved through this visualization. "
   ]
  },
  {
   "cell_type": "code",
   "execution_count": 26,
   "metadata": {},
   "outputs": [
    {
     "data": {
      "image/png": "[encoded data removed]",
      "text/plain": [
       "<Figure size 800x600 with 1 Axes>"
      ]
     },
     "metadata": {},
     "output_type": "display_data"
    }
   ],
   "source": [
    "# Count the number of stations with and without our Places of Interest (POI)\n",
    "institution_counts = df_combined['total_institutions'].notna().value_counts()\n",
    "\n",
    "# Create a bar chart\n",
    "plt.figure(figsize=(8, 6))\n",
    "institution_counts.plot(kind='bar', color=['green', 'red'])\n",
    "\n",
    "# Add labels and title\n",
    "plt.title('Number of Stations with and without Nearby POI')\n",
    "plt.xlabel('Nearby Restaurants, Bars or Banks Availability')\n",
    "plt.ylabel('Number of Stations')\n",
    "plt.xticks(ticks=[0, 1], labels=['Has Institutions', 'No Institutions'], rotation=0)\n",
    "\n",
    "\n",
    "plt.show()"
   ]
  },
  {
   "cell_type": "markdown",
   "metadata": {},
   "source": [
    "As we can see, almost half the stations don't have our choosen point of interest places (ie. restaurants, bars or banks) nearby."
   ]
  },
  {
   "cell_type": "markdown",
   "metadata": {},
   "source": [
    "# Database"
   ]
  },
  {
   "cell_type": "markdown",
   "metadata": {},
   "source": [
    "Put all your results in an SQLite3 database (remember, SQLite stores its databases as files in your local machine - make sure to create your database in your project's data/ directory!)"
   ]
  },
  {
   "cell_type": "code",
   "execution_count": 27,
   "metadata": {},
   "outputs": [],
   "source": [
    "import sqlite3"
   ]
  },
  {
   "cell_type": "code",
   "execution_count": 28,
   "metadata": {},
   "outputs": [],
   "source": [
    "# Selecting the project's data/ directory\n",
    "db_path = r'C:\\Users\\mahmu\\LHL\\Statistical-Modelling-Project\\data\\stations_institutions.db'"
   ]
  },
  {
   "cell_type": "code",
   "execution_count": 32,
   "metadata": {},
   "outputs": [],
   "source": [
    "conn = sqlite3.connect(db_path)"
   ]
  },
  {
   "cell_type": "code",
   "execution_count": 30,
   "metadata": {},
   "outputs": [
    {
     "data": {
      "text/plain": [
       "852"
      ]
     },
     "execution_count": 30,
     "metadata": {},
     "output_type": "execute_result"
    }
   ],
   "source": [
    "df_combined.to_sql('stations_institutions', conn, if_exists='replace', index=False)"
   ]
  },
  {
   "cell_type": "code",
   "execution_count": 31,
   "metadata": {},
   "outputs": [],
   "source": [
    "conn.close()"
   ]
  },
  {
   "cell_type": "markdown",
   "metadata": {},
   "source": [
    "Look at the data before and after the join to validate your data."
   ]
  },
  {
   "cell_type": "code",
   "execution_count": 33,
   "metadata": {},
   "outputs": [],
   "source": [
    "conn = sqlite3.connect(db_path)"
   ]
  },
  {
   "cell_type": "code",
   "execution_count": 42,
   "metadata": {},
   "outputs": [],
   "source": [
    "query = 'SELECT * FROM stations_institutions;'\n",
    "df_sql = pd.read_sql_query(query, conn) \n",
    "# We read our sql query and put result in a database called df_sql"
   ]
  },
  {
   "cell_type": "code",
   "execution_count": 44,
   "metadata": {},
   "outputs": [
    {
     "data": {
      "text/plain": [
       "(852, 11)"
      ]
     },
     "execution_count": 44,
     "metadata": {},
     "output_type": "execute_result"
    }
   ],
   "source": [
    "df_sql.shape # Shape of our SQL database"
   ]
  },
  {
   "cell_type": "code",
   "execution_count": 49,
   "metadata": {},
   "outputs": [
    {
     "data": {
      "text/plain": [
       "(852, 11)"
      ]
     },
     "execution_count": 49,
     "metadata": {},
     "output_type": "execute_result"
    }
   ],
   "source": [
    "df_combined.shape # Shape of our joined dataframe"
   ]
  },
  {
   "cell_type": "markdown",
   "metadata": {},
   "source": [
    "As we can see, our SQL database \"df_sql\" has 852 rows and 11 columns, which are identical to our df_combined database. We can also see that both has the same first 5 results."
   ]
  },
  {
   "cell_type": "code",
   "execution_count": 50,
   "metadata": {},
   "outputs": [
    {
     "data": {
      "text/html": [
       "<div>\n",
       "<style scoped>\n",
       "    .dataframe tbody tr th:only-of-type {\n",
       "        vertical-align: middle;\n",
       "    }\n",
       "\n",
       "    .dataframe tbody tr th {\n",
       "        vertical-align: top;\n",
       "    }\n",
       "\n",
       "    .dataframe thead th {\n",
       "        text-align: right;\n",
       "    }\n",
       "</style>\n",
       "<table border=\"1\" class=\"dataframe\">\n",
       "  <thead>\n",
       "    <tr style=\"text-align: right;\">\n",
       "      <th></th>\n",
       "      <th>station_name</th>\n",
       "      <th>latitude</th>\n",
       "      <th>longitude</th>\n",
       "      <th>total_bikes</th>\n",
       "      <th>institution name</th>\n",
       "      <th>category</th>\n",
       "      <th>distance</th>\n",
       "      <th>bank_count</th>\n",
       "      <th>bar_count</th>\n",
       "      <th>restaurant_count</th>\n",
       "      <th>total_institutions</th>\n",
       "    </tr>\n",
       "  </thead>\n",
       "  <tbody>\n",
       "    <tr>\n",
       "      <th>0</th>\n",
       "      <td>Summerhill Ave / Maclennan Ave</td>\n",
       "      <td>43.685924</td>\n",
       "      <td>-79.376304</td>\n",
       "      <td>11</td>\n",
       "      <td>Dolce BakeryAshbury CleanersRosedale's FinestR...</td>\n",
       "      <td>restaurantbarbarbarbarbank</td>\n",
       "      <td>209.0</td>\n",
       "      <td>1.0</td>\n",
       "      <td>4.0</td>\n",
       "      <td>1.0</td>\n",
       "      <td>6.0</td>\n",
       "    </tr>\n",
       "    <tr>\n",
       "      <th>1</th>\n",
       "      <td>Queen St E / Joseph Duggan Rd</td>\n",
       "      <td>43.667763</td>\n",
       "      <td>-79.308117</td>\n",
       "      <td>18</td>\n",
       "      <td>None</td>\n",
       "      <td>None</td>\n",
       "      <td>NaN</td>\n",
       "      <td>NaN</td>\n",
       "      <td>NaN</td>\n",
       "      <td>NaN</td>\n",
       "      <td>NaN</td>\n",
       "    </tr>\n",
       "    <tr>\n",
       "      <th>2</th>\n",
       "      <td>Victoria Park Ave / Danforth Ave</td>\n",
       "      <td>43.691468</td>\n",
       "      <td>-79.288619</td>\n",
       "      <td>18</td>\n",
       "      <td>Il CucinaTD Bank Financial GroupTD Canada Trus...</td>\n",
       "      <td>restaurantbankbank</td>\n",
       "      <td>74.0</td>\n",
       "      <td>2.0</td>\n",
       "      <td>0.0</td>\n",
       "      <td>1.0</td>\n",
       "      <td>3.0</td>\n",
       "    </tr>\n",
       "    <tr>\n",
       "      <th>3</th>\n",
       "      <td>Navy Wharf Crt / Bremner Blvd</td>\n",
       "      <td>43.640722</td>\n",
       "      <td>-79.391051</td>\n",
       "      <td>8</td>\n",
       "      <td>Mr. GreekKibo SushiKibo SushiBlue Fin Sushi Bar</td>\n",
       "      <td>restaurantrestaurantbarbar</td>\n",
       "      <td>128.0</td>\n",
       "      <td>0.0</td>\n",
       "      <td>2.0</td>\n",
       "      <td>2.0</td>\n",
       "      <td>4.0</td>\n",
       "    </tr>\n",
       "    <tr>\n",
       "      <th>4</th>\n",
       "      <td>420 Wellington St W</td>\n",
       "      <td>43.643834</td>\n",
       "      <td>-79.396649</td>\n",
       "      <td>15</td>\n",
       "      <td>Le Select BistroMira RestaurantLe Select Bistr...</td>\n",
       "      <td>restaurantrestaurantbarbarbarbarbar</td>\n",
       "      <td>179.0</td>\n",
       "      <td>0.0</td>\n",
       "      <td>5.0</td>\n",
       "      <td>2.0</td>\n",
       "      <td>7.0</td>\n",
       "    </tr>\n",
       "  </tbody>\n",
       "</table>\n",
       "</div>"
      ],
      "text/plain": [
       "                       station_name   latitude  longitude  total_bikes  \\\n",
       "0    Summerhill Ave / Maclennan Ave  43.685924 -79.376304           11   \n",
       "1     Queen St E / Joseph Duggan Rd  43.667763 -79.308117           18   \n",
       "2  Victoria Park Ave / Danforth Ave  43.691468 -79.288619           18   \n",
       "3     Navy Wharf Crt / Bremner Blvd  43.640722 -79.391051            8   \n",
       "4               420 Wellington St W  43.643834 -79.396649           15   \n",
       "\n",
       "                                    institution name  \\\n",
       "0  Dolce BakeryAshbury CleanersRosedale's FinestR...   \n",
       "1                                               None   \n",
       "2  Il CucinaTD Bank Financial GroupTD Canada Trus...   \n",
       "3    Mr. GreekKibo SushiKibo SushiBlue Fin Sushi Bar   \n",
       "4  Le Select BistroMira RestaurantLe Select Bistr...   \n",
       "\n",
       "                              category  distance  bank_count  bar_count  \\\n",
       "0           restaurantbarbarbarbarbank     209.0         1.0        4.0   \n",
       "1                                 None       NaN         NaN        NaN   \n",
       "2                   restaurantbankbank      74.0         2.0        0.0   \n",
       "3           restaurantrestaurantbarbar     128.0         0.0        2.0   \n",
       "4  restaurantrestaurantbarbarbarbarbar     179.0         0.0        5.0   \n",
       "\n",
       "   restaurant_count  total_institutions  \n",
       "0               1.0                 6.0  \n",
       "1               NaN                 NaN  \n",
       "2               1.0                 3.0  \n",
       "3               2.0                 4.0  \n",
       "4               2.0                 7.0  "
      ]
     },
     "execution_count": 50,
     "metadata": {},
     "output_type": "execute_result"
    }
   ],
   "source": [
    "df_sql.head() # First 5 result of our SQL database"
   ]
  },
  {
   "cell_type": "code",
   "execution_count": 51,
   "metadata": {},
   "outputs": [
    {
     "data": {
      "text/html": [
       "<div>\n",
       "<style scoped>\n",
       "    .dataframe tbody tr th:only-of-type {\n",
       "        vertical-align: middle;\n",
       "    }\n",
       "\n",
       "    .dataframe tbody tr th {\n",
       "        vertical-align: top;\n",
       "    }\n",
       "\n",
       "    .dataframe thead th {\n",
       "        text-align: right;\n",
       "    }\n",
       "</style>\n",
       "<table border=\"1\" class=\"dataframe\">\n",
       "  <thead>\n",
       "    <tr style=\"text-align: right;\">\n",
       "      <th></th>\n",
       "      <th>station_name</th>\n",
       "      <th>latitude</th>\n",
       "      <th>longitude</th>\n",
       "      <th>total_bikes</th>\n",
       "      <th>institution name</th>\n",
       "      <th>category</th>\n",
       "      <th>distance</th>\n",
       "      <th>bank_count</th>\n",
       "      <th>bar_count</th>\n",
       "      <th>restaurant_count</th>\n",
       "      <th>total_institutions</th>\n",
       "    </tr>\n",
       "  </thead>\n",
       "  <tbody>\n",
       "    <tr>\n",
       "      <th>0</th>\n",
       "      <td>Summerhill Ave / Maclennan Ave</td>\n",
       "      <td>43.685924</td>\n",
       "      <td>-79.376304</td>\n",
       "      <td>11</td>\n",
       "      <td>Dolce BakeryAshbury CleanersRosedale's FinestR...</td>\n",
       "      <td>restaurantbarbarbarbarbank</td>\n",
       "      <td>209.0</td>\n",
       "      <td>1.0</td>\n",
       "      <td>4.0</td>\n",
       "      <td>1.0</td>\n",
       "      <td>6.0</td>\n",
       "    </tr>\n",
       "    <tr>\n",
       "      <th>1</th>\n",
       "      <td>Queen St E / Joseph Duggan Rd</td>\n",
       "      <td>43.667763</td>\n",
       "      <td>-79.308117</td>\n",
       "      <td>18</td>\n",
       "      <td>NaN</td>\n",
       "      <td>NaN</td>\n",
       "      <td>NaN</td>\n",
       "      <td>NaN</td>\n",
       "      <td>NaN</td>\n",
       "      <td>NaN</td>\n",
       "      <td>NaN</td>\n",
       "    </tr>\n",
       "    <tr>\n",
       "      <th>2</th>\n",
       "      <td>Victoria Park Ave / Danforth Ave</td>\n",
       "      <td>43.691468</td>\n",
       "      <td>-79.288619</td>\n",
       "      <td>18</td>\n",
       "      <td>Il CucinaTD Bank Financial GroupTD Canada Trus...</td>\n",
       "      <td>restaurantbankbank</td>\n",
       "      <td>74.0</td>\n",
       "      <td>2.0</td>\n",
       "      <td>0.0</td>\n",
       "      <td>1.0</td>\n",
       "      <td>3.0</td>\n",
       "    </tr>\n",
       "    <tr>\n",
       "      <th>3</th>\n",
       "      <td>Navy Wharf Crt / Bremner Blvd</td>\n",
       "      <td>43.640722</td>\n",
       "      <td>-79.391051</td>\n",
       "      <td>8</td>\n",
       "      <td>Mr. GreekKibo SushiKibo SushiBlue Fin Sushi Bar</td>\n",
       "      <td>restaurantrestaurantbarbar</td>\n",
       "      <td>128.0</td>\n",
       "      <td>0.0</td>\n",
       "      <td>2.0</td>\n",
       "      <td>2.0</td>\n",
       "      <td>4.0</td>\n",
       "    </tr>\n",
       "    <tr>\n",
       "      <th>4</th>\n",
       "      <td>420 Wellington St W</td>\n",
       "      <td>43.643834</td>\n",
       "      <td>-79.396649</td>\n",
       "      <td>15</td>\n",
       "      <td>Le Select BistroMira RestaurantLe Select Bistr...</td>\n",
       "      <td>restaurantrestaurantbarbarbarbarbar</td>\n",
       "      <td>179.0</td>\n",
       "      <td>0.0</td>\n",
       "      <td>5.0</td>\n",
       "      <td>2.0</td>\n",
       "      <td>7.0</td>\n",
       "    </tr>\n",
       "  </tbody>\n",
       "</table>\n",
       "</div>"
      ],
      "text/plain": [
       "                       station_name   latitude  longitude  total_bikes  \\\n",
       "0    Summerhill Ave / Maclennan Ave  43.685924 -79.376304           11   \n",
       "1     Queen St E / Joseph Duggan Rd  43.667763 -79.308117           18   \n",
       "2  Victoria Park Ave / Danforth Ave  43.691468 -79.288619           18   \n",
       "3     Navy Wharf Crt / Bremner Blvd  43.640722 -79.391051            8   \n",
       "4               420 Wellington St W  43.643834 -79.396649           15   \n",
       "\n",
       "                                    institution name  \\\n",
       "0  Dolce BakeryAshbury CleanersRosedale's FinestR...   \n",
       "1                                                NaN   \n",
       "2  Il CucinaTD Bank Financial GroupTD Canada Trus...   \n",
       "3    Mr. GreekKibo SushiKibo SushiBlue Fin Sushi Bar   \n",
       "4  Le Select BistroMira RestaurantLe Select Bistr...   \n",
       "\n",
       "                              category  distance  bank_count  bar_count  \\\n",
       "0           restaurantbarbarbarbarbank     209.0         1.0        4.0   \n",
       "1                                  NaN       NaN         NaN        NaN   \n",
       "2                   restaurantbankbank      74.0         2.0        0.0   \n",
       "3           restaurantrestaurantbarbar     128.0         0.0        2.0   \n",
       "4  restaurantrestaurantbarbarbarbarbar     179.0         0.0        5.0   \n",
       "\n",
       "   restaurant_count  total_institutions  \n",
       "0               1.0                 6.0  \n",
       "1               NaN                 NaN  \n",
       "2               1.0                 3.0  \n",
       "3               2.0                 4.0  \n",
       "4               2.0                 7.0  "
      ]
     },
     "execution_count": 51,
     "metadata": {},
     "output_type": "execute_result"
    }
   ],
   "source": [
    "df_combined.head() # First 5 result of our joined dataframe"
   ]
  },
  {
   "cell_type": "markdown",
   "metadata": {},
   "source": [
    "We can also compare the summary statistics of both and can see that both are identical"
   ]
  },
  {
   "cell_type": "code",
   "execution_count": 55,
   "metadata": {},
   "outputs": [
    {
     "data": {
      "text/html": [
       "<div>\n",
       "<style scoped>\n",
       "    .dataframe tbody tr th:only-of-type {\n",
       "        vertical-align: middle;\n",
       "    }\n",
       "\n",
       "    .dataframe tbody tr th {\n",
       "        vertical-align: top;\n",
       "    }\n",
       "\n",
       "    .dataframe thead th {\n",
       "        text-align: right;\n",
       "    }\n",
       "</style>\n",
       "<table border=\"1\" class=\"dataframe\">\n",
       "  <thead>\n",
       "    <tr style=\"text-align: right;\">\n",
       "      <th></th>\n",
       "      <th>latitude</th>\n",
       "      <th>longitude</th>\n",
       "      <th>total_bikes</th>\n",
       "      <th>distance</th>\n",
       "      <th>bank_count</th>\n",
       "      <th>bar_count</th>\n",
       "      <th>restaurant_count</th>\n",
       "      <th>total_institutions</th>\n",
       "    </tr>\n",
       "  </thead>\n",
       "  <tbody>\n",
       "    <tr>\n",
       "      <th>count</th>\n",
       "      <td>852.000000</td>\n",
       "      <td>852.000000</td>\n",
       "      <td>852.000000</td>\n",
       "      <td>444.000000</td>\n",
       "      <td>444.000000</td>\n",
       "      <td>444.000000</td>\n",
       "      <td>444.000000</td>\n",
       "      <td>444.000000</td>\n",
       "    </tr>\n",
       "    <tr>\n",
       "      <th>mean</th>\n",
       "      <td>43.674017</td>\n",
       "      <td>-79.394347</td>\n",
       "      <td>18.392019</td>\n",
       "      <td>161.148649</td>\n",
       "      <td>0.533784</td>\n",
       "      <td>2.567568</td>\n",
       "      <td>1.630631</td>\n",
       "      <td>4.731982</td>\n",
       "    </tr>\n",
       "    <tr>\n",
       "      <th>std</th>\n",
       "      <td>0.036710</td>\n",
       "      <td>0.066238</td>\n",
       "      <td>7.165909</td>\n",
       "      <td>134.390860</td>\n",
       "      <td>1.134811</td>\n",
       "      <td>2.332890</td>\n",
       "      <td>1.845881</td>\n",
       "      <td>3.999183</td>\n",
       "    </tr>\n",
       "    <tr>\n",
       "      <th>min</th>\n",
       "      <td>43.588077</td>\n",
       "      <td>-79.568250</td>\n",
       "      <td>5.000000</td>\n",
       "      <td>5.000000</td>\n",
       "      <td>0.000000</td>\n",
       "      <td>0.000000</td>\n",
       "      <td>0.000000</td>\n",
       "      <td>1.000000</td>\n",
       "    </tr>\n",
       "    <tr>\n",
       "      <th>25%</th>\n",
       "      <td>43.649516</td>\n",
       "      <td>-79.431257</td>\n",
       "      <td>14.000000</td>\n",
       "      <td>56.750000</td>\n",
       "      <td>0.000000</td>\n",
       "      <td>1.000000</td>\n",
       "      <td>1.000000</td>\n",
       "      <td>2.000000</td>\n",
       "    </tr>\n",
       "    <tr>\n",
       "      <th>50%</th>\n",
       "      <td>43.664024</td>\n",
       "      <td>-79.394175</td>\n",
       "      <td>17.000000</td>\n",
       "      <td>121.500000</td>\n",
       "      <td>0.000000</td>\n",
       "      <td>2.000000</td>\n",
       "      <td>1.000000</td>\n",
       "      <td>3.000000</td>\n",
       "    </tr>\n",
       "    <tr>\n",
       "      <th>75%</th>\n",
       "      <td>43.688572</td>\n",
       "      <td>-79.364703</td>\n",
       "      <td>21.000000</td>\n",
       "      <td>229.250000</td>\n",
       "      <td>1.000000</td>\n",
       "      <td>4.000000</td>\n",
       "      <td>2.000000</td>\n",
       "      <td>7.000000</td>\n",
       "    </tr>\n",
       "    <tr>\n",
       "      <th>max</th>\n",
       "      <td>43.792363</td>\n",
       "      <td>-79.123184</td>\n",
       "      <td>63.000000</td>\n",
       "      <td>703.000000</td>\n",
       "      <td>7.000000</td>\n",
       "      <td>10.000000</td>\n",
       "      <td>10.000000</td>\n",
       "      <td>23.000000</td>\n",
       "    </tr>\n",
       "  </tbody>\n",
       "</table>\n",
       "</div>"
      ],
      "text/plain": [
       "         latitude   longitude  total_bikes    distance  bank_count  \\\n",
       "count  852.000000  852.000000   852.000000  444.000000  444.000000   \n",
       "mean    43.674017  -79.394347    18.392019  161.148649    0.533784   \n",
       "std      0.036710    0.066238     7.165909  134.390860    1.134811   \n",
       "min     43.588077  -79.568250     5.000000    5.000000    0.000000   \n",
       "25%     43.649516  -79.431257    14.000000   56.750000    0.000000   \n",
       "50%     43.664024  -79.394175    17.000000  121.500000    0.000000   \n",
       "75%     43.688572  -79.364703    21.000000  229.250000    1.000000   \n",
       "max     43.792363  -79.123184    63.000000  703.000000    7.000000   \n",
       "\n",
       "        bar_count  restaurant_count  total_institutions  \n",
       "count  444.000000        444.000000          444.000000  \n",
       "mean     2.567568          1.630631            4.731982  \n",
       "std      2.332890          1.845881            3.999183  \n",
       "min      0.000000          0.000000            1.000000  \n",
       "25%      1.000000          1.000000            2.000000  \n",
       "50%      2.000000          1.000000            3.000000  \n",
       "75%      4.000000          2.000000            7.000000  \n",
       "max     10.000000         10.000000           23.000000  "
      ]
     },
     "execution_count": 55,
     "metadata": {},
     "output_type": "execute_result"
    }
   ],
   "source": [
    "df_combined.describe() # Statistics of our joined dataframe"
   ]
  },
  {
   "cell_type": "code",
   "execution_count": 56,
   "metadata": {},
   "outputs": [
    {
     "data": {
      "text/html": [
       "<div>\n",
       "<style scoped>\n",
       "    .dataframe tbody tr th:only-of-type {\n",
       "        vertical-align: middle;\n",
       "    }\n",
       "\n",
       "    .dataframe tbody tr th {\n",
       "        vertical-align: top;\n",
       "    }\n",
       "\n",
       "    .dataframe thead th {\n",
       "        text-align: right;\n",
       "    }\n",
       "</style>\n",
       "<table border=\"1\" class=\"dataframe\">\n",
       "  <thead>\n",
       "    <tr style=\"text-align: right;\">\n",
       "      <th></th>\n",
       "      <th>latitude</th>\n",
       "      <th>longitude</th>\n",
       "      <th>total_bikes</th>\n",
       "      <th>distance</th>\n",
       "      <th>bank_count</th>\n",
       "      <th>bar_count</th>\n",
       "      <th>restaurant_count</th>\n",
       "      <th>total_institutions</th>\n",
       "    </tr>\n",
       "  </thead>\n",
       "  <tbody>\n",
       "    <tr>\n",
       "      <th>count</th>\n",
       "      <td>852.000000</td>\n",
       "      <td>852.000000</td>\n",
       "      <td>852.000000</td>\n",
       "      <td>444.000000</td>\n",
       "      <td>444.000000</td>\n",
       "      <td>444.000000</td>\n",
       "      <td>444.000000</td>\n",
       "      <td>444.000000</td>\n",
       "    </tr>\n",
       "    <tr>\n",
       "      <th>mean</th>\n",
       "      <td>43.674017</td>\n",
       "      <td>-79.394347</td>\n",
       "      <td>18.392019</td>\n",
       "      <td>161.148649</td>\n",
       "      <td>0.533784</td>\n",
       "      <td>2.567568</td>\n",
       "      <td>1.630631</td>\n",
       "      <td>4.731982</td>\n",
       "    </tr>\n",
       "    <tr>\n",
       "      <th>std</th>\n",
       "      <td>0.036710</td>\n",
       "      <td>0.066238</td>\n",
       "      <td>7.165909</td>\n",
       "      <td>134.390860</td>\n",
       "      <td>1.134811</td>\n",
       "      <td>2.332890</td>\n",
       "      <td>1.845881</td>\n",
       "      <td>3.999183</td>\n",
       "    </tr>\n",
       "    <tr>\n",
       "      <th>min</th>\n",
       "      <td>43.588077</td>\n",
       "      <td>-79.568250</td>\n",
       "      <td>5.000000</td>\n",
       "      <td>5.000000</td>\n",
       "      <td>0.000000</td>\n",
       "      <td>0.000000</td>\n",
       "      <td>0.000000</td>\n",
       "      <td>1.000000</td>\n",
       "    </tr>\n",
       "    <tr>\n",
       "      <th>25%</th>\n",
       "      <td>43.649516</td>\n",
       "      <td>-79.431257</td>\n",
       "      <td>14.000000</td>\n",
       "      <td>56.750000</td>\n",
       "      <td>0.000000</td>\n",
       "      <td>1.000000</td>\n",
       "      <td>1.000000</td>\n",
       "      <td>2.000000</td>\n",
       "    </tr>\n",
       "    <tr>\n",
       "      <th>50%</th>\n",
       "      <td>43.664024</td>\n",
       "      <td>-79.394175</td>\n",
       "      <td>17.000000</td>\n",
       "      <td>121.500000</td>\n",
       "      <td>0.000000</td>\n",
       "      <td>2.000000</td>\n",
       "      <td>1.000000</td>\n",
       "      <td>3.000000</td>\n",
       "    </tr>\n",
       "    <tr>\n",
       "      <th>75%</th>\n",
       "      <td>43.688572</td>\n",
       "      <td>-79.364703</td>\n",
       "      <td>21.000000</td>\n",
       "      <td>229.250000</td>\n",
       "      <td>1.000000</td>\n",
       "      <td>4.000000</td>\n",
       "      <td>2.000000</td>\n",
       "      <td>7.000000</td>\n",
       "    </tr>\n",
       "    <tr>\n",
       "      <th>max</th>\n",
       "      <td>43.792363</td>\n",
       "      <td>-79.123184</td>\n",
       "      <td>63.000000</td>\n",
       "      <td>703.000000</td>\n",
       "      <td>7.000000</td>\n",
       "      <td>10.000000</td>\n",
       "      <td>10.000000</td>\n",
       "      <td>23.000000</td>\n",
       "    </tr>\n",
       "  </tbody>\n",
       "</table>\n",
       "</div>"
      ],
      "text/plain": [
       "         latitude   longitude  total_bikes    distance  bank_count  \\\n",
       "count  852.000000  852.000000   852.000000  444.000000  444.000000   \n",
       "mean    43.674017  -79.394347    18.392019  161.148649    0.533784   \n",
       "std      0.036710    0.066238     7.165909  134.390860    1.134811   \n",
       "min     43.588077  -79.568250     5.000000    5.000000    0.000000   \n",
       "25%     43.649516  -79.431257    14.000000   56.750000    0.000000   \n",
       "50%     43.664024  -79.394175    17.000000  121.500000    0.000000   \n",
       "75%     43.688572  -79.364703    21.000000  229.250000    1.000000   \n",
       "max     43.792363  -79.123184    63.000000  703.000000    7.000000   \n",
       "\n",
       "        bar_count  restaurant_count  total_institutions  \n",
       "count  444.000000        444.000000          444.000000  \n",
       "mean     2.567568          1.630631            4.731982  \n",
       "std      2.332890          1.845881            3.999183  \n",
       "min      0.000000          0.000000            1.000000  \n",
       "25%      1.000000          1.000000            2.000000  \n",
       "50%      2.000000          1.000000            3.000000  \n",
       "75%      4.000000          2.000000            7.000000  \n",
       "max     10.000000         10.000000           23.000000  "
      ]
     },
     "execution_count": 56,
     "metadata": {},
     "output_type": "execute_result"
    }
   ],
   "source": [
    "df_sql.describe() # Statistics of our SQL database"
   ]
  },
  {
   "cell_type": "code",
   "execution_count": 52,
   "metadata": {},
   "outputs": [],
   "source": [
    "conn.close()"
   ]
  }
 ],
 "metadata": {
  "kernelspec": {
   "display_name": "Python 3",
   "language": "python",
   "name": "python3"
  },
  "language_info": {
   "codemirror_mode": {
    "name": "ipython",
    "version": 3
   },
   "file_extension": ".py",
   "mimetype": "text/x-python",
   "name": "python",
   "nbconvert_exporter": "python",
   "pygments_lexer": "ipython3",
   "version": "3.12.5"
  }
 },
 "nbformat": 4,
 "nbformat_minor": 4
}
