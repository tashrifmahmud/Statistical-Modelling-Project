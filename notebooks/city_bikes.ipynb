{
 "cells": [
  {
   "cell_type": "markdown",
   "metadata": {},
   "source": [
    "# CityBikes"
   ]
  },
  {
   "cell_type": "markdown",
   "metadata": {},
   "source": [
    "Send a request to CityBikes for the city of your choice. "
   ]
  },
  {
   "cell_type": "code",
   "execution_count": 1,
   "metadata": {},
   "outputs": [],
   "source": [
    "# We start by importing all the necessary libraries\n",
    "import requests\n",
    "import json\n",
    "import pandas as pd\n",
    "import import_ipynb"
   ]
  },
  {
   "cell_type": "code",
   "execution_count": 2,
   "metadata": {},
   "outputs": [],
   "source": [
    "# First we find CityBikes API endpoint for Toronto and use it for URL\n",
    "# It is /bixi-toronto\n",
    "url = \"http://api.citybik.es/v2/networks/bixi-toronto\"\n",
    "\n",
    "# Then we send the request to the CityBikes API\n",
    "response = requests.get(url)\n"
   ]
  },
  {
   "cell_type": "code",
   "execution_count": 3,
   "metadata": {},
   "outputs": [
    {
     "data": {
      "text/plain": [
       "<Response [200]>"
      ]
     },
     "execution_count": 3,
     "metadata": {},
     "output_type": "execute_result"
    }
   ],
   "source": [
    "response = requests.get(url)\n",
    "#Then we check the status code to ensure the request was successful\n",
    "response"
   ]
  },
  {
   "cell_type": "code",
   "execution_count": 4,
   "metadata": {},
   "outputs": [],
   "source": [
    "# After that, we will parse the response as JSON\n",
    "data = response.json()"
   ]
  },
  {
   "cell_type": "code",
   "execution_count": 5,
   "metadata": {},
   "outputs": [],
   "source": [
    "# print(json.dumps(data))\n",
    "# We can print data to check it"
   ]
  },
  {
   "cell_type": "code",
   "execution_count": 6,
   "metadata": {},
   "outputs": [
    {
     "data": {
      "text/html": [
       "<div>\n",
       "<style scoped>\n",
       "    .dataframe tbody tr th:only-of-type {\n",
       "        vertical-align: middle;\n",
       "    }\n",
       "\n",
       "    .dataframe tbody tr th {\n",
       "        vertical-align: top;\n",
       "    }\n",
       "\n",
       "    .dataframe thead th {\n",
       "        text-align: right;\n",
       "    }\n",
       "</style>\n",
       "<table border=\"1\" class=\"dataframe\">\n",
       "  <thead>\n",
       "    <tr style=\"text-align: right;\">\n",
       "      <th></th>\n",
       "      <th>network</th>\n",
       "    </tr>\n",
       "  </thead>\n",
       "  <tbody>\n",
       "    <tr>\n",
       "      <th>id</th>\n",
       "      <td>bixi-toronto</td>\n",
       "    </tr>\n",
       "    <tr>\n",
       "      <th>name</th>\n",
       "      <td>Bike Share Toronto</td>\n",
       "    </tr>\n",
       "    <tr>\n",
       "      <th>location</th>\n",
       "      <td>{'latitude': 43.653226, 'longitude': -79.38318...</td>\n",
       "    </tr>\n",
       "    <tr>\n",
       "      <th>href</th>\n",
       "      <td>/v2/networks/bixi-toronto</td>\n",
       "    </tr>\n",
       "    <tr>\n",
       "      <th>company</th>\n",
       "      <td>[Motivate International, Inc., PBSC Urban Solu...</td>\n",
       "    </tr>\n",
       "  </tbody>\n",
       "</table>\n",
       "</div>"
      ],
      "text/plain": [
       "                                                    network\n",
       "id                                             bixi-toronto\n",
       "name                                     Bike Share Toronto\n",
       "location  {'latitude': 43.653226, 'longitude': -79.38318...\n",
       "href                              /v2/networks/bixi-toronto\n",
       "company   [Motivate International, Inc., PBSC Urban Solu..."
      ]
     },
     "execution_count": 6,
     "metadata": {},
     "output_type": "execute_result"
    }
   ],
   "source": [
    "df = pd.DataFrame(data)\n",
    "df.head()"
   ]
  },
  {
   "cell_type": "markdown",
   "metadata": {},
   "source": [
    "Parse through the response to get the details you want for the bike stations in that city (latitude, longitude, number of bikes). "
   ]
  },
  {
   "cell_type": "code",
   "execution_count": 7,
   "metadata": {},
   "outputs": [],
   "source": [
    "# Extract the stations data from stations in network\n",
    "stations = data['network']['stations']\n",
    "    \n",
    "# Prepare a list to store station information\n",
    "station_info = []\n",
    "\n",
    "# Loop through each station to get the required details\n",
    "for station in stations:\n",
    "    total_bikes = station['free_bikes'] + station['empty_slots']  # Calculate total bikes\n",
    "    station_details = {\n",
    "        'name': station['name'],\n",
    "        'latitude': station['latitude'],\n",
    "        'longitude': station['longitude'],\n",
    "        'free_bikes': station['free_bikes'],\n",
    "        'empty_slots': station['empty_slots'],\n",
    "        'total_bikes': total_bikes\n",
    "    }\n",
    "    # Then we will add our station details in the station info list\n",
    "    station_info.append(station_details)"
   ]
  },
  {
   "cell_type": "code",
   "execution_count": 8,
   "metadata": {},
   "outputs": [
    {
     "data": {
      "text/html": [
       "<div>\n",
       "<style scoped>\n",
       "    .dataframe tbody tr th:only-of-type {\n",
       "        vertical-align: middle;\n",
       "    }\n",
       "\n",
       "    .dataframe tbody tr th {\n",
       "        vertical-align: top;\n",
       "    }\n",
       "\n",
       "    .dataframe thead th {\n",
       "        text-align: right;\n",
       "    }\n",
       "</style>\n",
       "<table border=\"1\" class=\"dataframe\">\n",
       "  <thead>\n",
       "    <tr style=\"text-align: right;\">\n",
       "      <th></th>\n",
       "      <th>id</th>\n",
       "      <th>name</th>\n",
       "      <th>latitude</th>\n",
       "      <th>longitude</th>\n",
       "      <th>timestamp</th>\n",
       "      <th>free_bikes</th>\n",
       "      <th>empty_slots</th>\n",
       "      <th>extra</th>\n",
       "    </tr>\n",
       "  </thead>\n",
       "  <tbody>\n",
       "    <tr>\n",
       "      <th>0</th>\n",
       "      <td>009f180cf35ae1285733d98ccf058313</td>\n",
       "      <td>Summerhill Ave / Maclennan Ave</td>\n",
       "      <td>43.685924</td>\n",
       "      <td>-79.376304</td>\n",
       "      <td>2024-10-21T07:24:29.197017Z</td>\n",
       "      <td>3</td>\n",
       "      <td>8</td>\n",
       "      <td>{'uid': '7488', 'renting': 1, 'returning': 1, ...</td>\n",
       "    </tr>\n",
       "    <tr>\n",
       "      <th>1</th>\n",
       "      <td>010507feed5b8d87c40cd95933ed5654</td>\n",
       "      <td>Queen St E / Joseph Duggan Rd</td>\n",
       "      <td>43.667763</td>\n",
       "      <td>-79.308117</td>\n",
       "      <td>2024-10-21T07:24:29.198847Z</td>\n",
       "      <td>15</td>\n",
       "      <td>3</td>\n",
       "      <td>{'uid': '7695', 'renting': 1, 'returning': 1, ...</td>\n",
       "    </tr>\n",
       "    <tr>\n",
       "      <th>2</th>\n",
       "      <td>0153756b9e136b96e730aaa2f048227f</td>\n",
       "      <td>Victoria Park Ave / Danforth Ave</td>\n",
       "      <td>43.691468</td>\n",
       "      <td>-79.288619</td>\n",
       "      <td>2024-10-21T07:24:29.198082Z</td>\n",
       "      <td>3</td>\n",
       "      <td>15</td>\n",
       "      <td>{'uid': '7611', 'renting': 1, 'returning': 1, ...</td>\n",
       "    </tr>\n",
       "    <tr>\n",
       "      <th>3</th>\n",
       "      <td>019e5937c3fc120cee906770bca8fa69</td>\n",
       "      <td>Navy Wharf Crt / Bremner Blvd</td>\n",
       "      <td>43.640722</td>\n",
       "      <td>-79.391051</td>\n",
       "      <td>2024-10-21T07:24:29.192916Z</td>\n",
       "      <td>8</td>\n",
       "      <td>0</td>\n",
       "      <td>{'uid': '7054', 'renting': 1, 'returning': 1, ...</td>\n",
       "    </tr>\n",
       "    <tr>\n",
       "      <th>4</th>\n",
       "      <td>01caf8b12874b091f2fccc3818e3c72e</td>\n",
       "      <td>420 Wellington St W</td>\n",
       "      <td>43.643834</td>\n",
       "      <td>-79.396649</td>\n",
       "      <td>2024-10-21T07:24:29.193539Z</td>\n",
       "      <td>8</td>\n",
       "      <td>5</td>\n",
       "      <td>{'uid': '7123', 'renting': 1, 'returning': 1, ...</td>\n",
       "    </tr>\n",
       "  </tbody>\n",
       "</table>\n",
       "</div>"
      ],
      "text/plain": [
       "                                 id                              name  \\\n",
       "0  009f180cf35ae1285733d98ccf058313    Summerhill Ave / Maclennan Ave   \n",
       "1  010507feed5b8d87c40cd95933ed5654     Queen St E / Joseph Duggan Rd   \n",
       "2  0153756b9e136b96e730aaa2f048227f  Victoria Park Ave / Danforth Ave   \n",
       "3  019e5937c3fc120cee906770bca8fa69     Navy Wharf Crt / Bremner Blvd   \n",
       "4  01caf8b12874b091f2fccc3818e3c72e               420 Wellington St W   \n",
       "\n",
       "    latitude  longitude                    timestamp  free_bikes  empty_slots  \\\n",
       "0  43.685924 -79.376304  2024-10-21T07:24:29.197017Z           3            8   \n",
       "1  43.667763 -79.308117  2024-10-21T07:24:29.198847Z          15            3   \n",
       "2  43.691468 -79.288619  2024-10-21T07:24:29.198082Z           3           15   \n",
       "3  43.640722 -79.391051  2024-10-21T07:24:29.192916Z           8            0   \n",
       "4  43.643834 -79.396649  2024-10-21T07:24:29.193539Z           8            5   \n",
       "\n",
       "                                               extra  \n",
       "0  {'uid': '7488', 'renting': 1, 'returning': 1, ...  \n",
       "1  {'uid': '7695', 'renting': 1, 'returning': 1, ...  \n",
       "2  {'uid': '7611', 'renting': 1, 'returning': 1, ...  \n",
       "3  {'uid': '7054', 'renting': 1, 'returning': 1, ...  \n",
       "4  {'uid': '7123', 'renting': 1, 'returning': 1, ...  "
      ]
     },
     "execution_count": 8,
     "metadata": {},
     "output_type": "execute_result"
    }
   ],
   "source": [
    "df = pd.DataFrame(stations)\n",
    "df.head()"
   ]
  },
  {
   "cell_type": "markdown",
   "metadata": {},
   "source": [
    "Put your parsed results into a DataFrame."
   ]
  },
  {
   "cell_type": "code",
   "execution_count": 9,
   "metadata": {},
   "outputs": [
    {
     "data": {
      "text/html": [
       "<div>\n",
       "<style scoped>\n",
       "    .dataframe tbody tr th:only-of-type {\n",
       "        vertical-align: middle;\n",
       "    }\n",
       "\n",
       "    .dataframe tbody tr th {\n",
       "        vertical-align: top;\n",
       "    }\n",
       "\n",
       "    .dataframe thead th {\n",
       "        text-align: right;\n",
       "    }\n",
       "</style>\n",
       "<table border=\"1\" class=\"dataframe\">\n",
       "  <thead>\n",
       "    <tr style=\"text-align: right;\">\n",
       "      <th></th>\n",
       "      <th>name</th>\n",
       "      <th>latitude</th>\n",
       "      <th>longitude</th>\n",
       "      <th>free_bikes</th>\n",
       "      <th>empty_slots</th>\n",
       "      <th>total_bikes</th>\n",
       "    </tr>\n",
       "  </thead>\n",
       "  <tbody>\n",
       "    <tr>\n",
       "      <th>0</th>\n",
       "      <td>Summerhill Ave / Maclennan Ave</td>\n",
       "      <td>43.685924</td>\n",
       "      <td>-79.376304</td>\n",
       "      <td>3</td>\n",
       "      <td>8</td>\n",
       "      <td>11</td>\n",
       "    </tr>\n",
       "    <tr>\n",
       "      <th>1</th>\n",
       "      <td>Queen St E / Joseph Duggan Rd</td>\n",
       "      <td>43.667763</td>\n",
       "      <td>-79.308117</td>\n",
       "      <td>15</td>\n",
       "      <td>3</td>\n",
       "      <td>18</td>\n",
       "    </tr>\n",
       "    <tr>\n",
       "      <th>2</th>\n",
       "      <td>Victoria Park Ave / Danforth Ave</td>\n",
       "      <td>43.691468</td>\n",
       "      <td>-79.288619</td>\n",
       "      <td>3</td>\n",
       "      <td>15</td>\n",
       "      <td>18</td>\n",
       "    </tr>\n",
       "    <tr>\n",
       "      <th>3</th>\n",
       "      <td>Navy Wharf Crt / Bremner Blvd</td>\n",
       "      <td>43.640722</td>\n",
       "      <td>-79.391051</td>\n",
       "      <td>8</td>\n",
       "      <td>0</td>\n",
       "      <td>8</td>\n",
       "    </tr>\n",
       "    <tr>\n",
       "      <th>4</th>\n",
       "      <td>420 Wellington St W</td>\n",
       "      <td>43.643834</td>\n",
       "      <td>-79.396649</td>\n",
       "      <td>8</td>\n",
       "      <td>5</td>\n",
       "      <td>13</td>\n",
       "    </tr>\n",
       "  </tbody>\n",
       "</table>\n",
       "</div>"
      ],
      "text/plain": [
       "                               name   latitude  longitude  free_bikes  \\\n",
       "0    Summerhill Ave / Maclennan Ave  43.685924 -79.376304           3   \n",
       "1     Queen St E / Joseph Duggan Rd  43.667763 -79.308117          15   \n",
       "2  Victoria Park Ave / Danforth Ave  43.691468 -79.288619           3   \n",
       "3     Navy Wharf Crt / Bremner Blvd  43.640722 -79.391051           8   \n",
       "4               420 Wellington St W  43.643834 -79.396649           8   \n",
       "\n",
       "   empty_slots  total_bikes  \n",
       "0            8           11  \n",
       "1            3           18  \n",
       "2           15           18  \n",
       "3            0            8  \n",
       "4            5           13  "
      ]
     },
     "execution_count": 9,
     "metadata": {},
     "output_type": "execute_result"
    }
   ],
   "source": [
    "# Convert the list of station details into a DataFrame\n",
    "df = pd.DataFrame(station_info)\n",
    "\n",
    "# Display the first 5 rows of the DataFrame\n",
    "df.head()"
   ]
  },
  {
   "cell_type": "code",
   "execution_count": 10,
   "metadata": {},
   "outputs": [
    {
     "data": {
      "text/html": [
       "<div>\n",
       "<style scoped>\n",
       "    .dataframe tbody tr th:only-of-type {\n",
       "        vertical-align: middle;\n",
       "    }\n",
       "\n",
       "    .dataframe tbody tr th {\n",
       "        vertical-align: top;\n",
       "    }\n",
       "\n",
       "    .dataframe thead th {\n",
       "        text-align: right;\n",
       "    }\n",
       "</style>\n",
       "<table border=\"1\" class=\"dataframe\">\n",
       "  <thead>\n",
       "    <tr style=\"text-align: right;\">\n",
       "      <th></th>\n",
       "      <th>latitude</th>\n",
       "      <th>longitude</th>\n",
       "      <th>free_bikes</th>\n",
       "      <th>empty_slots</th>\n",
       "      <th>total_bikes</th>\n",
       "    </tr>\n",
       "  </thead>\n",
       "  <tbody>\n",
       "    <tr>\n",
       "      <th>count</th>\n",
       "      <td>852.000000</td>\n",
       "      <td>852.000000</td>\n",
       "      <td>852.000000</td>\n",
       "      <td>852.000000</td>\n",
       "      <td>852.000000</td>\n",
       "    </tr>\n",
       "    <tr>\n",
       "      <th>mean</th>\n",
       "      <td>43.674017</td>\n",
       "      <td>-79.394347</td>\n",
       "      <td>7.287559</td>\n",
       "      <td>11.046948</td>\n",
       "      <td>18.334507</td>\n",
       "    </tr>\n",
       "    <tr>\n",
       "      <th>std</th>\n",
       "      <td>0.036710</td>\n",
       "      <td>0.066238</td>\n",
       "      <td>7.561619</td>\n",
       "      <td>7.292779</td>\n",
       "      <td>7.150856</td>\n",
       "    </tr>\n",
       "    <tr>\n",
       "      <th>min</th>\n",
       "      <td>43.588077</td>\n",
       "      <td>-79.568250</td>\n",
       "      <td>0.000000</td>\n",
       "      <td>0.000000</td>\n",
       "      <td>5.000000</td>\n",
       "    </tr>\n",
       "    <tr>\n",
       "      <th>25%</th>\n",
       "      <td>43.649516</td>\n",
       "      <td>-79.431257</td>\n",
       "      <td>1.000000</td>\n",
       "      <td>5.000000</td>\n",
       "      <td>14.000000</td>\n",
       "    </tr>\n",
       "    <tr>\n",
       "      <th>50%</th>\n",
       "      <td>43.664024</td>\n",
       "      <td>-79.394175</td>\n",
       "      <td>5.000000</td>\n",
       "      <td>11.000000</td>\n",
       "      <td>17.000000</td>\n",
       "    </tr>\n",
       "    <tr>\n",
       "      <th>75%</th>\n",
       "      <td>43.688572</td>\n",
       "      <td>-79.364703</td>\n",
       "      <td>12.000000</td>\n",
       "      <td>15.000000</td>\n",
       "      <td>20.250000</td>\n",
       "    </tr>\n",
       "    <tr>\n",
       "      <th>max</th>\n",
       "      <td>43.792363</td>\n",
       "      <td>-79.123184</td>\n",
       "      <td>50.000000</td>\n",
       "      <td>45.000000</td>\n",
       "      <td>63.000000</td>\n",
       "    </tr>\n",
       "  </tbody>\n",
       "</table>\n",
       "</div>"
      ],
      "text/plain": [
       "         latitude   longitude  free_bikes  empty_slots  total_bikes\n",
       "count  852.000000  852.000000  852.000000   852.000000   852.000000\n",
       "mean    43.674017  -79.394347    7.287559    11.046948    18.334507\n",
       "std      0.036710    0.066238    7.561619     7.292779     7.150856\n",
       "min     43.588077  -79.568250    0.000000     0.000000     5.000000\n",
       "25%     43.649516  -79.431257    1.000000     5.000000    14.000000\n",
       "50%     43.664024  -79.394175    5.000000    11.000000    17.000000\n",
       "75%     43.688572  -79.364703   12.000000    15.000000    20.250000\n",
       "max     43.792363  -79.123184   50.000000    45.000000    63.000000"
      ]
     },
     "execution_count": 10,
     "metadata": {},
     "output_type": "execute_result"
    }
   ],
   "source": [
    "# Visualize summary of statistics\n",
    "df.describe()"
   ]
  },
  {
   "cell_type": "code",
   "execution_count": 11,
   "metadata": {},
   "outputs": [],
   "source": [
    "missing_values = df.isnull().sum()\n",
    "missing_percentage = (missing_values / df.shape[0]) * 100"
   ]
  },
  {
   "cell_type": "code",
   "execution_count": 12,
   "metadata": {},
   "outputs": [
    {
     "data": {
      "text/html": [
       "<div>\n",
       "<style scoped>\n",
       "    .dataframe tbody tr th:only-of-type {\n",
       "        vertical-align: middle;\n",
       "    }\n",
       "\n",
       "    .dataframe tbody tr th {\n",
       "        vertical-align: top;\n",
       "    }\n",
       "\n",
       "    .dataframe thead th {\n",
       "        text-align: right;\n",
       "    }\n",
       "</style>\n",
       "<table border=\"1\" class=\"dataframe\">\n",
       "  <thead>\n",
       "    <tr style=\"text-align: right;\">\n",
       "      <th></th>\n",
       "      <th>Missing Values</th>\n",
       "      <th>Percentage</th>\n",
       "    </tr>\n",
       "  </thead>\n",
       "  <tbody>\n",
       "  </tbody>\n",
       "</table>\n",
       "</div>"
      ],
      "text/plain": [
       "Empty DataFrame\n",
       "Columns: [Missing Values, Percentage]\n",
       "Index: []"
      ]
     },
     "execution_count": 12,
     "metadata": {},
     "output_type": "execute_result"
    }
   ],
   "source": [
    "# Checking for missing values\n",
    "missing_data = pd.DataFrame({'Missing Values': missing_values, 'Percentage': missing_percentage})\n",
    "missing_data[missing_data['Missing Values'] > 0]"
   ]
  },
  {
   "cell_type": "code",
   "execution_count": 13,
   "metadata": {},
   "outputs": [],
   "source": [
    "df_bike = df.drop(columns=['free_bikes', 'empty_slots'], errors='ignore')\n",
    "# Rename a column for clarity\n",
    "df_bike.rename(columns={'name': 'station_name'}, inplace=True)"
   ]
  },
  {
   "cell_type": "code",
   "execution_count": 14,
   "metadata": {},
   "outputs": [
    {
     "data": {
      "text/html": [
       "<div>\n",
       "<style scoped>\n",
       "    .dataframe tbody tr th:only-of-type {\n",
       "        vertical-align: middle;\n",
       "    }\n",
       "\n",
       "    .dataframe tbody tr th {\n",
       "        vertical-align: top;\n",
       "    }\n",
       "\n",
       "    .dataframe thead th {\n",
       "        text-align: right;\n",
       "    }\n",
       "</style>\n",
       "<table border=\"1\" class=\"dataframe\">\n",
       "  <thead>\n",
       "    <tr style=\"text-align: right;\">\n",
       "      <th></th>\n",
       "      <th>station_name</th>\n",
       "      <th>latitude</th>\n",
       "      <th>longitude</th>\n",
       "      <th>total_bikes</th>\n",
       "    </tr>\n",
       "  </thead>\n",
       "  <tbody>\n",
       "    <tr>\n",
       "      <th>0</th>\n",
       "      <td>Summerhill Ave / Maclennan Ave</td>\n",
       "      <td>43.685924</td>\n",
       "      <td>-79.376304</td>\n",
       "      <td>11</td>\n",
       "    </tr>\n",
       "    <tr>\n",
       "      <th>1</th>\n",
       "      <td>Queen St E / Joseph Duggan Rd</td>\n",
       "      <td>43.667763</td>\n",
       "      <td>-79.308117</td>\n",
       "      <td>18</td>\n",
       "    </tr>\n",
       "    <tr>\n",
       "      <th>2</th>\n",
       "      <td>Victoria Park Ave / Danforth Ave</td>\n",
       "      <td>43.691468</td>\n",
       "      <td>-79.288619</td>\n",
       "      <td>18</td>\n",
       "    </tr>\n",
       "    <tr>\n",
       "      <th>3</th>\n",
       "      <td>Navy Wharf Crt / Bremner Blvd</td>\n",
       "      <td>43.640722</td>\n",
       "      <td>-79.391051</td>\n",
       "      <td>8</td>\n",
       "    </tr>\n",
       "    <tr>\n",
       "      <th>4</th>\n",
       "      <td>420 Wellington St W</td>\n",
       "      <td>43.643834</td>\n",
       "      <td>-79.396649</td>\n",
       "      <td>13</td>\n",
       "    </tr>\n",
       "  </tbody>\n",
       "</table>\n",
       "</div>"
      ],
      "text/plain": [
       "                       station_name   latitude  longitude  total_bikes\n",
       "0    Summerhill Ave / Maclennan Ave  43.685924 -79.376304           11\n",
       "1     Queen St E / Joseph Duggan Rd  43.667763 -79.308117           18\n",
       "2  Victoria Park Ave / Danforth Ave  43.691468 -79.288619           18\n",
       "3     Navy Wharf Crt / Bremner Blvd  43.640722 -79.391051            8\n",
       "4               420 Wellington St W  43.643834 -79.396649           13"
      ]
     },
     "execution_count": 14,
     "metadata": {},
     "output_type": "execute_result"
    }
   ],
   "source": [
    "df_bike.head()"
   ]
  },
  {
   "cell_type": "code",
   "execution_count": 15,
   "metadata": {},
   "outputs": [
    {
     "data": {
      "text/plain": [
       "(852, 4)"
      ]
     },
     "execution_count": 15,
     "metadata": {},
     "output_type": "execute_result"
    }
   ],
   "source": [
    "df_bike.shape"
   ]
  },
  {
   "cell_type": "code",
   "execution_count": 16,
   "metadata": {},
   "outputs": [
    {
     "data": {
      "text/html": [
       "<div>\n",
       "<style scoped>\n",
       "    .dataframe tbody tr th:only-of-type {\n",
       "        vertical-align: middle;\n",
       "    }\n",
       "\n",
       "    .dataframe tbody tr th {\n",
       "        vertical-align: top;\n",
       "    }\n",
       "\n",
       "    .dataframe thead th {\n",
       "        text-align: right;\n",
       "    }\n",
       "</style>\n",
       "<table border=\"1\" class=\"dataframe\">\n",
       "  <thead>\n",
       "    <tr style=\"text-align: right;\">\n",
       "      <th></th>\n",
       "      <th>latitude</th>\n",
       "      <th>longitude</th>\n",
       "      <th>total_bikes</th>\n",
       "    </tr>\n",
       "  </thead>\n",
       "  <tbody>\n",
       "    <tr>\n",
       "      <th>count</th>\n",
       "      <td>852.000000</td>\n",
       "      <td>852.000000</td>\n",
       "      <td>852.000000</td>\n",
       "    </tr>\n",
       "    <tr>\n",
       "      <th>mean</th>\n",
       "      <td>43.674017</td>\n",
       "      <td>-79.394347</td>\n",
       "      <td>18.334507</td>\n",
       "    </tr>\n",
       "    <tr>\n",
       "      <th>std</th>\n",
       "      <td>0.036710</td>\n",
       "      <td>0.066238</td>\n",
       "      <td>7.150856</td>\n",
       "    </tr>\n",
       "    <tr>\n",
       "      <th>min</th>\n",
       "      <td>43.588077</td>\n",
       "      <td>-79.568250</td>\n",
       "      <td>5.000000</td>\n",
       "    </tr>\n",
       "    <tr>\n",
       "      <th>25%</th>\n",
       "      <td>43.649516</td>\n",
       "      <td>-79.431257</td>\n",
       "      <td>14.000000</td>\n",
       "    </tr>\n",
       "    <tr>\n",
       "      <th>50%</th>\n",
       "      <td>43.664024</td>\n",
       "      <td>-79.394175</td>\n",
       "      <td>17.000000</td>\n",
       "    </tr>\n",
       "    <tr>\n",
       "      <th>75%</th>\n",
       "      <td>43.688572</td>\n",
       "      <td>-79.364703</td>\n",
       "      <td>20.250000</td>\n",
       "    </tr>\n",
       "    <tr>\n",
       "      <th>max</th>\n",
       "      <td>43.792363</td>\n",
       "      <td>-79.123184</td>\n",
       "      <td>63.000000</td>\n",
       "    </tr>\n",
       "  </tbody>\n",
       "</table>\n",
       "</div>"
      ],
      "text/plain": [
       "         latitude   longitude  total_bikes\n",
       "count  852.000000  852.000000   852.000000\n",
       "mean    43.674017  -79.394347    18.334507\n",
       "std      0.036710    0.066238     7.150856\n",
       "min     43.588077  -79.568250     5.000000\n",
       "25%     43.649516  -79.431257    14.000000\n",
       "50%     43.664024  -79.394175    17.000000\n",
       "75%     43.688572  -79.364703    20.250000\n",
       "max     43.792363  -79.123184    63.000000"
      ]
     },
     "execution_count": 16,
     "metadata": {},
     "output_type": "execute_result"
    }
   ],
   "source": [
    "df_bike.describe()"
   ]
  },
  {
   "cell_type": "code",
   "execution_count": 17,
   "metadata": {},
   "outputs": [],
   "source": [
    "# Saved for later usage\n",
    "# df_bike.to_csv('df_bike_data.csv', index=False)\n",
    "# df_bike.to_pickle('df_bike_data.pkl')"
   ]
  },
  {
   "cell_type": "code",
   "execution_count": null,
   "metadata": {},
   "outputs": [],
   "source": []
  }
 ],
 "metadata": {
  "kernelspec": {
   "display_name": "Python 3",
   "language": "python",
   "name": "python3"
  },
  "language_info": {
   "codemirror_mode": {
    "name": "ipython",
    "version": 3
   },
   "file_extension": ".py",
   "mimetype": "text/x-python",
   "name": "python",
   "nbconvert_exporter": "python",
   "pygments_lexer": "ipython3",
   "version": "3.12.5"
  }
 },
 "nbformat": 4,
 "nbformat_minor": 4
}
