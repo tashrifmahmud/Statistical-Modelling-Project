{
 "cells": [
  {
   "cell_type": "code",
   "execution_count": 29,
   "metadata": {},
   "outputs": [],
   "source": [
    "import requests\n",
    "import os\n",
    "import json\n",
    "import pandas as pd\n",
    "FOURSQUARE_API_KEY = os.environ.get(\"FOURSQUARE_API_KEY\")\n",
    "YELP_API_KEY = os.environ.get(\"YELP_API_KEY\")"
   ]
  },
  {
   "cell_type": "code",
   "execution_count": 39,
   "metadata": {},
   "outputs": [],
   "source": [
    "import import_ipynb\n",
    "import city_bikes"
   ]
  },
  {
   "cell_type": "code",
   "execution_count": 43,
   "metadata": {},
   "outputs": [
    {
     "data": {
      "text/html": [
       "<div>\n",
       "<style scoped>\n",
       "    .dataframe tbody tr th:only-of-type {\n",
       "        vertical-align: middle;\n",
       "    }\n",
       "\n",
       "    .dataframe tbody tr th {\n",
       "        vertical-align: top;\n",
       "    }\n",
       "\n",
       "    .dataframe thead th {\n",
       "        text-align: right;\n",
       "    }\n",
       "</style>\n",
       "<table border=\"1\" class=\"dataframe\">\n",
       "  <thead>\n",
       "    <tr style=\"text-align: right;\">\n",
       "      <th></th>\n",
       "      <th>station_name</th>\n",
       "      <th>latitude</th>\n",
       "      <th>longitude</th>\n",
       "      <th>total_bikes</th>\n",
       "    </tr>\n",
       "  </thead>\n",
       "  <tbody>\n",
       "    <tr>\n",
       "      <th>0</th>\n",
       "      <td>Summerhill Ave / Maclennan Ave</td>\n",
       "      <td>43.685924</td>\n",
       "      <td>-79.376304</td>\n",
       "      <td>11</td>\n",
       "    </tr>\n",
       "    <tr>\n",
       "      <th>1</th>\n",
       "      <td>Queen St E / Joseph Duggan Rd</td>\n",
       "      <td>43.667763</td>\n",
       "      <td>-79.308117</td>\n",
       "      <td>18</td>\n",
       "    </tr>\n",
       "    <tr>\n",
       "      <th>2</th>\n",
       "      <td>Victoria Park Ave / Danforth Ave</td>\n",
       "      <td>43.691468</td>\n",
       "      <td>-79.288619</td>\n",
       "      <td>18</td>\n",
       "    </tr>\n",
       "    <tr>\n",
       "      <th>3</th>\n",
       "      <td>Navy Wharf Crt / Bremner Blvd</td>\n",
       "      <td>43.640722</td>\n",
       "      <td>-79.391051</td>\n",
       "      <td>7</td>\n",
       "    </tr>\n",
       "    <tr>\n",
       "      <th>4</th>\n",
       "      <td>420 Wellington St W</td>\n",
       "      <td>43.643834</td>\n",
       "      <td>-79.396649</td>\n",
       "      <td>14</td>\n",
       "    </tr>\n",
       "  </tbody>\n",
       "</table>\n",
       "</div>"
      ],
      "text/plain": [
       "                       station_name   latitude  longitude  total_bikes\n",
       "0    Summerhill Ave / Maclennan Ave  43.685924 -79.376304           11\n",
       "1     Queen St E / Joseph Duggan Rd  43.667763 -79.308117           18\n",
       "2  Victoria Park Ave / Danforth Ave  43.691468 -79.288619           18\n",
       "3     Navy Wharf Crt / Bremner Blvd  43.640722 -79.391051            7\n",
       "4               420 Wellington St W  43.643834 -79.396649           14"
      ]
     },
     "execution_count": 43,
     "metadata": {},
     "output_type": "execute_result"
    }
   ],
   "source": [
    "df_bike.head()  # This should display the first few rows of the DataFrame\n"
   ]
  },
  {
   "cell_type": "code",
   "execution_count": 50,
   "metadata": {},
   "outputs": [
    {
     "data": {
      "text/plain": [
       "(852, 4)"
      ]
     },
     "execution_count": 50,
     "metadata": {},
     "output_type": "execute_result"
    }
   ],
   "source": [
    "df_bike.shape"
   ]
  },
  {
   "cell_type": "markdown",
   "metadata": {},
   "source": [
    "# Foursquare"
   ]
  },
  {
   "cell_type": "markdown",
   "metadata": {},
   "source": [
    "Send a request to Foursquare with a small radius (1000m) for all the bike stations in your city of choice. "
   ]
  },
  {
   "cell_type": "code",
   "execution_count": 46,
   "metadata": {},
   "outputs": [
    {
     "name": "stdout",
     "output_type": "stream",
     "text": [
      "{'results': [{'fsq_id': '537773d1498e74a75bb75c1e', 'categories': [{'id': 13028, 'name': 'Breakfast Spot', 'short_name': 'Breakfast', 'plural_name': 'Breakfast Spots', 'icon': {'prefix': 'https://ss3.4sqi.net/img/categories_v2/food/breakfast_', 'suffix': '.png'}}], 'chains': [], 'closed_bucket': 'VeryLikelyOpen', 'distance': 98, 'geocodes': {'main': {'latitude': 43.653268, 'longitude': -79.382074}, 'roof': {'latitude': 43.653268, 'longitude': -79.382074}}, 'link': '/v3/places/537773d1498e74a75bb75c1e', 'location': {'address': '483 Bay St', 'country': 'CA', 'cross_street': 'Albert Street', 'formatted_address': '483 Bay St (Albert Street), Toronto ON M5G 2C9', 'locality': 'Toronto', 'postcode': 'M5G 2C9', 'region': 'ON'}, 'name': 'Eggspectation Bell Trinity Square', 'related_places': {'parent': {'fsq_id': '4ae5df5af964a520c4a221e3', 'categories': [{'id': 11124, 'name': 'Office', 'short_name': 'Office', 'plural_name': 'Offices', 'icon': {'prefix': 'https://ss3.4sqi.net/img/categories_v2/building/default_', 'suffix': '.png'}}], 'name': 'Bell Trinity Square'}}, 'timezone': 'America/Toronto'}, {'fsq_id': '4d306dd82748b60c62b6dba0', 'categories': [{'id': 13065, 'name': 'Restaurant', 'short_name': 'Restaurant', 'plural_name': 'Restaurants', 'icon': {'prefix': 'https://ss3.4sqi.net/img/categories_v2/food/default_', 'suffix': '.png'}}], 'chains': [], 'closed_bucket': 'VeryLikelyOpen', 'distance': 216, 'geocodes': {'main': {'latitude': 43.654458, 'longitude': -79.381142}, 'roof': {'latitude': 43.654458, 'longitude': -79.381142}}, 'link': '/v3/places/4d306dd82748b60c62b6dba0', 'location': {'address': '220 Yonge St', 'address_extended': 'Level 3', 'country': 'CA', 'cross_street': 'in Toronto Eaton Centre', 'formatted_address': '220 Yonge St (in Toronto Eaton Centre), Toronto ON M5B 2H1', 'locality': 'Toronto', 'postcode': 'M5B 2H1', 'region': 'ON'}, 'name': 'Trattoria Mercatto', 'related_places': {'parent': {'fsq_id': '4ad77a12f964a520260b21e3', 'categories': [{'id': 17114, 'name': 'Shopping Mall', 'short_name': 'Mall', 'plural_name': 'Shopping Malls', 'icon': {'prefix': 'https://ss3.4sqi.net/img/categories_v2/shops/mall_', 'suffix': '.png'}}], 'name': 'CF Toronto Eaton Centre'}}, 'timezone': 'America/Toronto'}, {'fsq_id': '4ad4c060f964a5207cf720e3', 'categories': [{'id': 13338, 'name': 'Seafood Restaurant', 'short_name': 'Seafood', 'plural_name': 'Seafood Restaurants', 'icon': {'prefix': 'https://ss3.4sqi.net/img/categories_v2/food/seafood_', 'suffix': '.png'}}], 'chains': [], 'closed_bucket': 'LikelyOpen', 'distance': 312, 'geocodes': {'main': {'latitude': 43.650598, 'longitude': -79.381743}, 'roof': {'latitude': 43.650598, 'longitude': -79.381743}}, 'link': '/v3/places/4ad4c060f964a5207cf720e3', 'location': {'address': '56 Temperance St', 'country': 'CA', 'cross_street': 'at Bay St.', 'formatted_address': '56 Temperance St (at Bay St.), Toronto ON M5H 3V5', 'locality': 'Toronto', 'postcode': 'M5H 3V5', 'region': 'ON'}, 'name': 'John & Sons Oyster House', 'related_places': {}, 'timezone': 'America/Toronto'}, {'fsq_id': '57d0a3fb498e0fb29e892eed', 'categories': [{'id': 13343, 'name': 'South American Restaurant', 'short_name': 'South American', 'plural_name': 'South American Restaurants', 'icon': {'prefix': 'https://ss3.4sqi.net/img/categories_v2/food/argentinian_', 'suffix': '.png'}}, {'id': 13383, 'name': 'Steakhouse', 'short_name': 'Steakhouse', 'plural_name': 'Steakhouses', 'icon': {'prefix': 'https://ss3.4sqi.net/img/categories_v2/food/steakhouse_', 'suffix': '.png'}}], 'chains': [], 'closed_bucket': 'LikelyOpen', 'distance': 298, 'geocodes': {'main': {'latitude': 43.651907, 'longitude': -79.379941}, 'roof': {'latitude': 43.651907, 'longitude': -79.379941}}, 'link': '/v3/places/57d0a3fb498e0fb29e892eed', 'location': {'address': '176 Yonge St', 'country': 'CA', 'cross_street': '', 'formatted_address': '176 Yonge St, Toronto ON M5C 2L7', 'locality': 'Toronto', 'postcode': 'M5C 2L7', 'region': 'ON'}, 'name': 'Leña Restaurante', 'related_places': {}, 'timezone': 'America/Toronto'}, {'fsq_id': '5d782433f6e3190008b1a914', 'categories': [{'id': 13263, 'name': 'Japanese Restaurant', 'short_name': 'Japanese', 'plural_name': 'Japanese Restaurants', 'icon': {'prefix': 'https://ss3.4sqi.net/img/categories_v2/food/japanese_', 'suffix': '.png'}}], 'chains': [], 'closed_bucket': 'VeryLikelyOpen', 'distance': 303, 'geocodes': {'main': {'latitude': 43.655187, 'longitude': -79.385793}, 'roof': {'latitude': 43.655187, 'longitude': -79.385793}}, 'link': '/v3/places/5d782433f6e3190008b1a914', 'location': {'address': '157 Dundas St W', 'country': 'CA', 'cross_street': '', 'formatted_address': '157 Dundas St W, Toronto ON M5E 1B4', 'locality': 'Toronto', 'postcode': 'M5E 1B4', 'region': 'ON'}, 'name': 'Gyubee Japanese Grill', 'related_places': {}, 'timezone': 'America/Toronto'}, {'fsq_id': '4df909dfe4cd2129701c0690', 'categories': [{'id': 13314, 'name': 'New American Restaurant', 'short_name': 'New American', 'plural_name': 'New American Restaurants', 'icon': {'prefix': 'https://ss3.4sqi.net/img/categories_v2/food/newamerican_', 'suffix': '.png'}}, {'id': 13068, 'name': 'American Restaurant', 'short_name': 'American', 'plural_name': 'American Restaurants', 'icon': {'prefix': 'https://ss3.4sqi.net/img/categories_v2/food/default_', 'suffix': '.png'}}], 'chains': [], 'closed_bucket': 'VeryLikelyOpen', 'distance': 312, 'geocodes': {'main': {'latitude': 43.655861, 'longitude': -79.381926}, 'roof': {'latitude': 43.655861, 'longitude': -79.381926}}, 'link': '/v3/places/4df909dfe4cd2129701c0690', 'location': {'address': '1 Dundas St W', 'country': 'CA', 'cross_street': '', 'formatted_address': '1 Dundas St W, Toronto ON M5G 1Z3', 'locality': 'Toronto', 'postcode': 'M5G 1Z3', 'region': 'ON'}, 'name': 'JOEY Eaton Centre', 'related_places': {'parent': {'fsq_id': '4ad77a12f964a520260b21e3', 'categories': [{'id': 17114, 'name': 'Shopping Mall', 'short_name': 'Mall', 'plural_name': 'Shopping Malls', 'icon': {'prefix': 'https://ss3.4sqi.net/img/categories_v2/shops/mall_', 'suffix': '.png'}}], 'name': 'CF Toronto Eaton Centre'}}, 'timezone': 'America/Toronto'}, {'fsq_id': '4ad69511f964a520e40721e3', 'categories': [{'id': 13383, 'name': 'Steakhouse', 'short_name': 'Steakhouse', 'plural_name': 'Steakhouses', 'icon': {'prefix': 'https://ss3.4sqi.net/img/categories_v2/food/steakhouse_', 'suffix': '.png'}}, {'id': 17057, 'name': 'Food and Beverage Retail', 'short_name': 'Food & Beverage', 'plural_name': 'Food and Beverage Retail', 'icon': {'prefix': 'https://ss3.4sqi.net/img/categories_v2/shops/foodanddrink_', 'suffix': '.png'}}], 'chains': [], 'closed_bucket': 'VeryLikelyOpen', 'distance': 357, 'geocodes': {'main': {'latitude': 43.650038, 'longitude': -79.384038}, 'roof': {'latitude': 43.650038, 'longitude': -79.384038}}, 'link': '/v3/places/4ad69511f964a520e40721e3', 'location': {'address': '165 York St', 'address_extended': 'btwn Richmond St. & Adelaide St', 'country': 'CA', 'cross_street': 'btwn Richmond St. & Adelaide St.', 'formatted_address': '165 York St (btwn Richmond St. & Adelaide St.), Toronto ON M5H 3R8', 'locality': 'Toronto', 'postcode': 'M5H 3R8', 'region': 'ON'}, 'name': 'The Keg Steakhouse + Bar', 'related_places': {}, 'timezone': 'America/Toronto'}, {'fsq_id': '5aff06ca6e4650002cc6286b', 'categories': [{'id': 13303, 'name': 'Mexican Restaurant', 'short_name': 'Mexican', 'plural_name': 'Mexican Restaurants', 'icon': {'prefix': 'https://ss3.4sqi.net/img/categories_v2/food/mexican_', 'suffix': '.png'}}, {'id': 13377, 'name': 'Vegan and Vegetarian Restaurant', 'short_name': 'Vegan and Vegetarian Restaurant', 'plural_name': 'Vegan and Vegetarian Restaurants', 'icon': {'prefix': 'https://ss3.4sqi.net/img/categories_v2/food/vegetarian_', 'suffix': '.png'}}], 'chains': [], 'closed_bucket': 'VeryLikelyOpen', 'distance': 357, 'geocodes': {'main': {'latitude': 43.650207, 'longitude': -79.384813}, 'roof': {'latitude': 43.650207, 'longitude': -79.384813}}, 'link': '/v3/places/5aff06ca6e4650002cc6286b', 'location': {'address': '133 Richmond St W', 'country': 'CA', 'cross_street': '', 'formatted_address': '133 Richmond St W, Toronto ON M5H 2L3', 'locality': 'Toronto', 'postcode': 'M5H 2L3', 'region': 'ON'}, 'name': 'Rosalinda', 'related_places': {}, 'timezone': 'America/Toronto'}, {'fsq_id': '514627d1e4b0dba1b85e9ba8', 'categories': [{'id': 13034, 'name': 'Café', 'short_name': 'Café', 'plural_name': 'Cafés', 'icon': {'prefix': 'https://ss3.4sqi.net/img/categories_v2/food/cafe_', 'suffix': '.png'}}, {'id': 13035, 'name': 'Coffee Shop', 'short_name': 'Coffee Shop', 'plural_name': 'Coffee Shops', 'icon': {'prefix': 'https://ss3.4sqi.net/img/categories_v2/food/coffeeshop_', 'suffix': '.png'}}, {'id': 13065, 'name': 'Restaurant', 'short_name': 'Restaurant', 'plural_name': 'Restaurants', 'icon': {'prefix': 'https://ss3.4sqi.net/img/categories_v2/food/default_', 'suffix': '.png'}}], 'chains': [], 'closed_bucket': 'VeryLikelyOpen', 'distance': 406, 'geocodes': {'main': {'latitude': 43.651132, 'longitude': -79.379023}, 'roof': {'latitude': 43.651132, 'longitude': -79.379023}}, 'link': '/v3/places/514627d1e4b0dba1b85e9ba8', 'location': {'address': '140 Yonge St', 'country': 'CA', 'cross_street': 'at Temperance St', 'formatted_address': '140 Yonge St (at Temperance St), Toronto ON M5C 1X6', 'locality': 'Toronto', 'postcode': 'M5C 1X6', 'region': 'ON'}, 'name': 'Dineen Coffee Co', 'related_places': {}, 'timezone': 'America/Toronto'}, {'fsq_id': '4ae3398ff964a520ed9121e3', 'categories': [{'id': 13236, 'name': 'Italian Restaurant', 'short_name': 'Italian', 'plural_name': 'Italian Restaurants', 'icon': {'prefix': 'https://ss3.4sqi.net/img/categories_v2/food/italian_', 'suffix': '.png'}}, {'id': 17057, 'name': 'Food and Beverage Retail', 'short_name': 'Food & Beverage', 'plural_name': 'Food and Beverage Retail', 'icon': {'prefix': 'https://ss3.4sqi.net/img/categories_v2/shops/foodanddrink_', 'suffix': '.png'}}], 'chains': [], 'closed_bucket': 'VeryLikelyOpen', 'distance': 349, 'geocodes': {'main': {'latitude': 43.656191, 'longitude': -79.383568}, 'roof': {'latitude': 43.656191, 'longitude': -79.383568}}, 'link': '/v3/places/4ae3398ff964a520ed9121e3', 'location': {'address': '20 Dundas St E', 'address_extended': 'Atrium at the Bay', 'country': 'CA', 'cross_street': 'at Bay St', 'formatted_address': '20 Dundas St E (at Bay St), Toronto ON M5B 2L6', 'locality': 'Toronto', 'postcode': 'M5B 2L6', 'region': 'ON'}, 'name': 'Red Lobster', 'related_places': {'parent': {'fsq_id': '4ad8b6e9f964a520ec1321e3', 'categories': [{'id': 17114, 'name': 'Shopping Mall', 'short_name': 'Mall', 'plural_name': 'Shopping Malls', 'icon': {'prefix': 'https://ss3.4sqi.net/img/categories_v2/shops/mall_', 'suffix': '.png'}}], 'name': 'Atrium on Bay'}}, 'timezone': 'America/Toronto'}], 'context': {'geo_bounds': {'circle': {'center': {'latitude': 43.6532, 'longitude': -79.3832}, 'radius': 1000}}}}\n"
     ]
    }
   ],
   "source": [
    "# Define Foursquare endpoint for searching places\n",
    "foursquare_url = 'https://api.foursquare.com/v3/places/search'\n",
    "headers = {\n",
    "    \"Accept\": \"application/json\",\n",
    "    \"Authorization\": FOURSQUARE_API_KEY\n",
    "}\n",
    "\n",
    "def foursquare_places(latitude, longitude, query, radius=1000):\n",
    "    params = {\n",
    "        \"query\": query,\n",
    "        \"ll\": f\"{latitude},{longitude}\",\n",
    "        \"radius\": radius,\n",
    "        \"limit\": 10  # Limit to 10 results\n",
    "    }\n",
    "    \n",
    "    response = requests.get(foursquare_url, headers=headers, params=params)\n",
    "    return response.json()  # Return JSON data if the request is successful\n",
    "\n",
    "# Using Lat Long of Toronto\n",
    "latitude = 43.6532\n",
    "longitude = -79.3832\n",
    "restaurants = foursquare_places(latitude, longitude, \"restaurant\")\n",
    "print(restaurants)\n"
   ]
  },
  {
   "cell_type": "code",
   "execution_count": 47,
   "metadata": {},
   "outputs": [
    {
     "data": {
      "text/html": [
       "<div>\n",
       "<style scoped>\n",
       "    .dataframe tbody tr th:only-of-type {\n",
       "        vertical-align: middle;\n",
       "    }\n",
       "\n",
       "    .dataframe tbody tr th {\n",
       "        vertical-align: top;\n",
       "    }\n",
       "\n",
       "    .dataframe thead th {\n",
       "        text-align: right;\n",
       "    }\n",
       "</style>\n",
       "<table border=\"1\" class=\"dataframe\">\n",
       "  <thead>\n",
       "    <tr style=\"text-align: right;\">\n",
       "      <th></th>\n",
       "      <th>fsq_id</th>\n",
       "      <th>categories</th>\n",
       "      <th>chains</th>\n",
       "      <th>closed_bucket</th>\n",
       "      <th>distance</th>\n",
       "      <th>geocodes</th>\n",
       "      <th>link</th>\n",
       "      <th>location</th>\n",
       "      <th>name</th>\n",
       "      <th>related_places</th>\n",
       "      <th>timezone</th>\n",
       "    </tr>\n",
       "  </thead>\n",
       "  <tbody>\n",
       "    <tr>\n",
       "      <th>0</th>\n",
       "      <td>537773d1498e74a75bb75c1e</td>\n",
       "      <td>[{'id': 13028, 'name': 'Breakfast Spot', 'shor...</td>\n",
       "      <td>[]</td>\n",
       "      <td>VeryLikelyOpen</td>\n",
       "      <td>98</td>\n",
       "      <td>{'main': {'latitude': 43.653268, 'longitude': ...</td>\n",
       "      <td>/v3/places/537773d1498e74a75bb75c1e</td>\n",
       "      <td>{'address': '483 Bay St', 'country': 'CA', 'cr...</td>\n",
       "      <td>Eggspectation Bell Trinity Square</td>\n",
       "      <td>{'parent': {'fsq_id': '4ae5df5af964a520c4a221e...</td>\n",
       "      <td>America/Toronto</td>\n",
       "    </tr>\n",
       "    <tr>\n",
       "      <th>1</th>\n",
       "      <td>4d306dd82748b60c62b6dba0</td>\n",
       "      <td>[{'id': 13065, 'name': 'Restaurant', 'short_na...</td>\n",
       "      <td>[]</td>\n",
       "      <td>VeryLikelyOpen</td>\n",
       "      <td>216</td>\n",
       "      <td>{'main': {'latitude': 43.654458, 'longitude': ...</td>\n",
       "      <td>/v3/places/4d306dd82748b60c62b6dba0</td>\n",
       "      <td>{'address': '220 Yonge St', 'address_extended'...</td>\n",
       "      <td>Trattoria Mercatto</td>\n",
       "      <td>{'parent': {'fsq_id': '4ad77a12f964a520260b21e...</td>\n",
       "      <td>America/Toronto</td>\n",
       "    </tr>\n",
       "    <tr>\n",
       "      <th>2</th>\n",
       "      <td>4ad4c060f964a5207cf720e3</td>\n",
       "      <td>[{'id': 13338, 'name': 'Seafood Restaurant', '...</td>\n",
       "      <td>[]</td>\n",
       "      <td>LikelyOpen</td>\n",
       "      <td>312</td>\n",
       "      <td>{'main': {'latitude': 43.650598, 'longitude': ...</td>\n",
       "      <td>/v3/places/4ad4c060f964a5207cf720e3</td>\n",
       "      <td>{'address': '56 Temperance St', 'country': 'CA...</td>\n",
       "      <td>John &amp; Sons Oyster House</td>\n",
       "      <td>{}</td>\n",
       "      <td>America/Toronto</td>\n",
       "    </tr>\n",
       "    <tr>\n",
       "      <th>3</th>\n",
       "      <td>57d0a3fb498e0fb29e892eed</td>\n",
       "      <td>[{'id': 13343, 'name': 'South American Restaur...</td>\n",
       "      <td>[]</td>\n",
       "      <td>LikelyOpen</td>\n",
       "      <td>298</td>\n",
       "      <td>{'main': {'latitude': 43.651907, 'longitude': ...</td>\n",
       "      <td>/v3/places/57d0a3fb498e0fb29e892eed</td>\n",
       "      <td>{'address': '176 Yonge St', 'country': 'CA', '...</td>\n",
       "      <td>Leña Restaurante</td>\n",
       "      <td>{}</td>\n",
       "      <td>America/Toronto</td>\n",
       "    </tr>\n",
       "    <tr>\n",
       "      <th>4</th>\n",
       "      <td>5d782433f6e3190008b1a914</td>\n",
       "      <td>[{'id': 13263, 'name': 'Japanese Restaurant', ...</td>\n",
       "      <td>[]</td>\n",
       "      <td>VeryLikelyOpen</td>\n",
       "      <td>303</td>\n",
       "      <td>{'main': {'latitude': 43.655187, 'longitude': ...</td>\n",
       "      <td>/v3/places/5d782433f6e3190008b1a914</td>\n",
       "      <td>{'address': '157 Dundas St W', 'country': 'CA'...</td>\n",
       "      <td>Gyubee Japanese Grill</td>\n",
       "      <td>{}</td>\n",
       "      <td>America/Toronto</td>\n",
       "    </tr>\n",
       "  </tbody>\n",
       "</table>\n",
       "</div>"
      ],
      "text/plain": [
       "                     fsq_id  \\\n",
       "0  537773d1498e74a75bb75c1e   \n",
       "1  4d306dd82748b60c62b6dba0   \n",
       "2  4ad4c060f964a5207cf720e3   \n",
       "3  57d0a3fb498e0fb29e892eed   \n",
       "4  5d782433f6e3190008b1a914   \n",
       "\n",
       "                                          categories chains   closed_bucket  \\\n",
       "0  [{'id': 13028, 'name': 'Breakfast Spot', 'shor...     []  VeryLikelyOpen   \n",
       "1  [{'id': 13065, 'name': 'Restaurant', 'short_na...     []  VeryLikelyOpen   \n",
       "2  [{'id': 13338, 'name': 'Seafood Restaurant', '...     []      LikelyOpen   \n",
       "3  [{'id': 13343, 'name': 'South American Restaur...     []      LikelyOpen   \n",
       "4  [{'id': 13263, 'name': 'Japanese Restaurant', ...     []  VeryLikelyOpen   \n",
       "\n",
       "   distance                                           geocodes  \\\n",
       "0        98  {'main': {'latitude': 43.653268, 'longitude': ...   \n",
       "1       216  {'main': {'latitude': 43.654458, 'longitude': ...   \n",
       "2       312  {'main': {'latitude': 43.650598, 'longitude': ...   \n",
       "3       298  {'main': {'latitude': 43.651907, 'longitude': ...   \n",
       "4       303  {'main': {'latitude': 43.655187, 'longitude': ...   \n",
       "\n",
       "                                  link  \\\n",
       "0  /v3/places/537773d1498e74a75bb75c1e   \n",
       "1  /v3/places/4d306dd82748b60c62b6dba0   \n",
       "2  /v3/places/4ad4c060f964a5207cf720e3   \n",
       "3  /v3/places/57d0a3fb498e0fb29e892eed   \n",
       "4  /v3/places/5d782433f6e3190008b1a914   \n",
       "\n",
       "                                            location  \\\n",
       "0  {'address': '483 Bay St', 'country': 'CA', 'cr...   \n",
       "1  {'address': '220 Yonge St', 'address_extended'...   \n",
       "2  {'address': '56 Temperance St', 'country': 'CA...   \n",
       "3  {'address': '176 Yonge St', 'country': 'CA', '...   \n",
       "4  {'address': '157 Dundas St W', 'country': 'CA'...   \n",
       "\n",
       "                                name  \\\n",
       "0  Eggspectation Bell Trinity Square   \n",
       "1                 Trattoria Mercatto   \n",
       "2           John & Sons Oyster House   \n",
       "3                   Leña Restaurante   \n",
       "4              Gyubee Japanese Grill   \n",
       "\n",
       "                                      related_places         timezone  \n",
       "0  {'parent': {'fsq_id': '4ae5df5af964a520c4a221e...  America/Toronto  \n",
       "1  {'parent': {'fsq_id': '4ad77a12f964a520260b21e...  America/Toronto  \n",
       "2                                                 {}  America/Toronto  \n",
       "3                                                 {}  America/Toronto  \n",
       "4                                                 {}  America/Toronto  "
      ]
     },
     "execution_count": 47,
     "metadata": {},
     "output_type": "execute_result"
    }
   ],
   "source": [
    "results = restaurants.get('results', []) \n",
    "restaurants_df = pd.DataFrame(results) \n",
    "restaurants_df.head() "
   ]
  },
  {
   "cell_type": "code",
   "execution_count": null,
   "metadata": {},
   "outputs": [],
   "source": []
  },
  {
   "cell_type": "markdown",
   "metadata": {},
   "source": [
    "Parse through the response to get the POI (such as restaurants, bars, etc) details you want (ratings, name, location, etc)"
   ]
  },
  {
   "cell_type": "code",
   "execution_count": 56,
   "metadata": {},
   "outputs": [
    {
     "data": {
      "text/html": [
       "<div>\n",
       "<style scoped>\n",
       "    .dataframe tbody tr th:only-of-type {\n",
       "        vertical-align: middle;\n",
       "    }\n",
       "\n",
       "    .dataframe tbody tr th {\n",
       "        vertical-align: top;\n",
       "    }\n",
       "\n",
       "    .dataframe thead th {\n",
       "        text-align: right;\n",
       "    }\n",
       "</style>\n",
       "<table border=\"1\" class=\"dataframe\">\n",
       "  <thead>\n",
       "    <tr style=\"text-align: right;\">\n",
       "      <th></th>\n",
       "      <th>station_name</th>\n",
       "      <th>name</th>\n",
       "      <th>latitude</th>\n",
       "      <th>longitude</th>\n",
       "      <th>category</th>\n",
       "      <th>distance</th>\n",
       "    </tr>\n",
       "  </thead>\n",
       "  <tbody>\n",
       "    <tr>\n",
       "      <th>0</th>\n",
       "      <td>Summerhill Ave / Maclennan Ave</td>\n",
       "      <td>Dolce Bakery</td>\n",
       "      <td>43.685924</td>\n",
       "      <td>-79.376304</td>\n",
       "      <td>restaurant</td>\n",
       "      <td>38</td>\n",
       "    </tr>\n",
       "    <tr>\n",
       "      <th>1</th>\n",
       "      <td>Summerhill Ave / Maclennan Ave</td>\n",
       "      <td>Ashbury Cleaners</td>\n",
       "      <td>43.685924</td>\n",
       "      <td>-79.376304</td>\n",
       "      <td>bar</td>\n",
       "      <td>24</td>\n",
       "    </tr>\n",
       "    <tr>\n",
       "      <th>2</th>\n",
       "      <td>Summerhill Ave / Maclennan Ave</td>\n",
       "      <td>Rosedale's Finest</td>\n",
       "      <td>43.685924</td>\n",
       "      <td>-79.376304</td>\n",
       "      <td>bar</td>\n",
       "      <td>27</td>\n",
       "    </tr>\n",
       "    <tr>\n",
       "      <th>3</th>\n",
       "      <td>Summerhill Ave / Maclennan Ave</td>\n",
       "      <td>Rosedale 1 Hour Cleaners</td>\n",
       "      <td>43.685924</td>\n",
       "      <td>-79.376304</td>\n",
       "      <td>bar</td>\n",
       "      <td>39</td>\n",
       "    </tr>\n",
       "    <tr>\n",
       "      <th>4</th>\n",
       "      <td>Summerhill Ave / Maclennan Ave</td>\n",
       "      <td>Dolce Bakery</td>\n",
       "      <td>43.685924</td>\n",
       "      <td>-79.376304</td>\n",
       "      <td>bar</td>\n",
       "      <td>38</td>\n",
       "    </tr>\n",
       "  </tbody>\n",
       "</table>\n",
       "</div>"
      ],
      "text/plain": [
       "                     station_name                      name   latitude  \\\n",
       "0  Summerhill Ave / Maclennan Ave              Dolce Bakery  43.685924   \n",
       "1  Summerhill Ave / Maclennan Ave          Ashbury Cleaners  43.685924   \n",
       "2  Summerhill Ave / Maclennan Ave         Rosedale's Finest  43.685924   \n",
       "3  Summerhill Ave / Maclennan Ave  Rosedale 1 Hour Cleaners  43.685924   \n",
       "4  Summerhill Ave / Maclennan Ave              Dolce Bakery  43.685924   \n",
       "\n",
       "   longitude    category  distance  \n",
       "0 -79.376304  restaurant        38  \n",
       "1 -79.376304         bar        24  \n",
       "2 -79.376304         bar        27  \n",
       "3 -79.376304         bar        39  \n",
       "4 -79.376304         bar        38  "
      ]
     },
     "execution_count": 56,
     "metadata": {},
     "output_type": "execute_result"
    }
   ],
   "source": [
    "# Starting with an empty list\n",
    "poi_data = []\n",
    "\n",
    "#Selecting first 5 stations from the df_bike \n",
    "\n",
    "selected_stations = df_bike.head(5)\n",
    "\n",
    "# Iterate through each bike station in df_bike dataframe from city_bikes\n",
    "for index, row in selected_stations.iterrows():\n",
    "    latitude = row['latitude'] \n",
    "    longitude = row['longitude']\n",
    "    station_name = row['station_name']\n",
    "    \n",
    "    # Query for restaurants, bars, and banks\n",
    "    for query in [\"restaurant\", \"bar\", \"bank\"]:\n",
    "        pois = foursquare_places(latitude, longitude, query, radius=50)\n",
    "        \n",
    "        if pois and 'results' in pois:\n",
    "            for place in pois['results']:\n",
    "                distance = place.get('distance', None)\n",
    "                poi_info = {\n",
    "                    'station_name': station_name,\n",
    "                    'name': place.get('name', ''),\n",
    "                    'latitude': latitude,\n",
    "                    'longitude': longitude,\n",
    "                    'category': query,\n",
    "                    'distance': distance \n",
    "                }\n",
    "                poi_data.append(poi_info)  # Add to the empty list\n",
    "\n",
    "# Create a df from the data\n",
    "pois_df = pd.DataFrame(poi_data)\n",
    "\n",
    "# Check the first few rows of the new df\n",
    "pois_df.head()"
   ]
  },
  {
   "cell_type": "markdown",
   "metadata": {},
   "source": [
    "Looks like there are no rating provided with foresquare places. Will make another call and modify the code."
   ]
  },
  {
   "cell_type": "markdown",
   "metadata": {},
   "source": [
    "Put your parsed results into a DataFrame"
   ]
  },
  {
   "cell_type": "code",
   "execution_count": null,
   "metadata": {},
   "outputs": [],
   "source": []
  },
  {
   "cell_type": "markdown",
   "metadata": {},
   "source": [
    "# Yelp"
   ]
  },
  {
   "cell_type": "markdown",
   "metadata": {},
   "source": [
    "Send a request to Yelp with a small radius (1000m) for all the bike stations in your city of choice. "
   ]
  },
  {
   "cell_type": "code",
   "execution_count": null,
   "metadata": {},
   "outputs": [],
   "source": []
  },
  {
   "cell_type": "markdown",
   "metadata": {},
   "source": [
    "Parse through the response to get the POI (such as restaurants, bars, etc) details you want (ratings, name, location, etc)"
   ]
  },
  {
   "cell_type": "code",
   "execution_count": null,
   "metadata": {},
   "outputs": [],
   "source": []
  },
  {
   "cell_type": "markdown",
   "metadata": {},
   "source": [
    "Put your parsed results into a DataFrame"
   ]
  },
  {
   "cell_type": "markdown",
   "metadata": {},
   "source": []
  },
  {
   "cell_type": "markdown",
   "metadata": {},
   "source": [
    "# Comparing Results"
   ]
  },
  {
   "cell_type": "markdown",
   "metadata": {},
   "source": [
    "Which API provided you with more complete data? Provide an explanation. "
   ]
  },
  {
   "cell_type": "markdown",
   "metadata": {},
   "source": []
  },
  {
   "cell_type": "markdown",
   "metadata": {},
   "source": [
    "Get the top 10 restaurants according to their rating"
   ]
  },
  {
   "cell_type": "code",
   "execution_count": null,
   "metadata": {},
   "outputs": [],
   "source": []
  }
 ],
 "metadata": {
  "kernelspec": {
   "display_name": "Python 3",
   "language": "python",
   "name": "python3"
  },
  "language_info": {
   "codemirror_mode": {
    "name": "ipython",
    "version": 3
   },
   "file_extension": ".py",
   "mimetype": "text/x-python",
   "name": "python",
   "nbconvert_exporter": "python",
   "pygments_lexer": "ipython3",
   "version": "3.12.5"
  }
 },
 "nbformat": 4,
 "nbformat_minor": 4
}
